{
 "cells": [
  {
   "cell_type": "markdown",
   "metadata": {},
   "source": [
    "# 1. Vowel or Consonant\n",
    "\n",
    "Write a program that asks the user a enter a letter.\n",
    "\n",
    "The program should then display either \"The letter is a vowel.\" or \"The letter is a consonant.\""
   ]
  },
  {
   "cell_type": "code",
   "execution_count": null,
   "metadata": {},
   "outputs": [],
   "source": []
  },
  {
   "cell_type": "markdown",
   "metadata": {},
   "source": [
    "# 2. Name that shape\n",
    "\n",
    "Write a program that asks the user a enter an integer number between 3 and 10.\n",
    "\n",
    "The program should then display the name of the geometrical polygon which has this number of sides. "
   ]
  },
  {
   "cell_type": "code",
   "execution_count": null,
   "metadata": {},
   "outputs": [],
   "source": []
  },
  {
   "cell_type": "markdown",
   "metadata": {},
   "source": [
    "# 3. Month name and days in month\n",
    "\n",
    "Write a program that asks the user to input a month name.\n",
    "\n",
    "It should then display an integer corresponding to the number of days in said month.\n",
    "\n",
    "You can ignore leap years for February and display 28."
   ]
  },
  {
   "cell_type": "code",
   "execution_count": null,
   "metadata": {},
   "outputs": [],
   "source": []
  },
  {
   "cell_type": "markdown",
   "metadata": {},
   "source": [
    "# 4. Approximate pi (while loop edition)\n",
    "\n",
    "The value of pi can be approximated as\n",
    "\n",
    "$$ \\pi = 3 + \\frac{4}{2 \\times 3 \\times 4} - \\frac{4}{4 \\times 5 \\times 6} + \\frac{4}{6 \\times 7 \\times 8} - \\frac{4}{8 \\times 9 \\times 10} + ... $$\n",
    "\n",
    "Notice how it alternates the plus and minus signs.\n",
    "\n",
    "Write a function that receives an integer n and returns the approximated value of pi, with n terms computed in the sum above.\n",
    "\n",
    "When $ n = 1 $, it returns $ 3 $. when $ n = 2 $, it returns the result of $ 3 + \\frac{4}{2 \\times 3 \\times 4} $, etc.\n",
    "\n",
    "It should use a while loop."
   ]
  },
  {
   "cell_type": "code",
   "execution_count": null,
   "metadata": {},
   "outputs": [],
   "source": [
    "def f(n):\n",
    "    if(n == 1):\n",
    "        return 3\n",
    "    else:\n",
    "        pi = 3\n",
    "        for i in range(n-1):\n",
    "            print(i)\n",
    "            coeff = (-1**i)*4/(?)\n",
    "            print(coeff)\n",
    "            pi = pi + coeff\n",
    "            print(pi)\n",
    "        return pi"
   ]
  }
 ],
 "metadata": {
  "kernelspec": {
   "display_name": "Python 3",
   "language": "python",
   "name": "python3"
  },
  "language_info": {
   "codemirror_mode": {
    "name": "ipython",
    "version": 3
   },
   "file_extension": ".py",
   "mimetype": "text/x-python",
   "name": "python",
   "nbconvert_exporter": "python",
   "pygments_lexer": "ipython3",
   "version": "3.8.3"
  }
 },
 "nbformat": 4,
 "nbformat_minor": 4
}

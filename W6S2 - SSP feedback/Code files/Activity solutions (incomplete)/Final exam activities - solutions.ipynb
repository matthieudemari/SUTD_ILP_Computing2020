{
 "cells": [
  {
   "cell_type": "markdown",
   "metadata": {},
   "source": [
    "# Final exam activities - solutions\n",
    "\n",
    "## Activity 1A\n",
    "\n",
    "Write a function check_fullhouse(), which receives a list of 5 integer values between 1 and 6, corresponding to 5 dice rolls. It should return True, if it consists of a full house (i.e. a distinct triplet and doublet).\n",
    "\n",
    "For instance:\n",
    "- [1,1,1,6,6] should return True.\n",
    "- [2,4,2,4,4] should return True.\n",
    "- [1,4,3,5,4] should return False.\n",
    "- [1,1,1,6,5] should return False.\n",
    "- [2,2,2,2,4] should return False.\n",
    "- [3,3,3,3,3] should return False."
   ]
  },
  {
   "cell_type": "code",
   "execution_count": null,
   "metadata": {},
   "outputs": [],
   "source": [
    "def check_fullhouse(my_list):\n",
    "    has_triplet = False\n",
    "    has_doublet = False\n",
    "    for value in my_list:\n",
    "        if(my_list.count(value) == 3):\n",
    "            has_triplet = True\n",
    "        elif(my_list.count(value) == 2):\n",
    "            has_doublet = True\n",
    "        else:\n",
    "            return False\n",
    "    return has_triplet and has_doublet"
   ]
  },
  {
   "cell_type": "code",
   "execution_count": null,
   "metadata": {},
   "outputs": [],
   "source": [
    "print(check_fullhouse([1,1,1,6,6]))\n",
    "print(check_fullhouse([2,4,2,4,4]))\n",
    "print(check_fullhouse([1,4,3,5,4]))\n",
    "print(check_fullhouse([1,1,1,6,5]))\n",
    "print(check_fullhouse([2,2,2,2,4]))\n",
    "print(check_fullhouse([3,3,3,3,3]))"
   ]
  },
  {
   "cell_type": "code",
   "execution_count": null,
   "metadata": {},
   "outputs": [],
   "source": [
    "def check_fullhouse(my_list):\n",
    "    d = {}\n",
    "    for value in my_list:\n",
    "        if value not in d.keys():\n",
    "            d[value] = 1\n",
    "        else:\n",
    "            d[value] += 1\n",
    "    print(d)\n",
    "    values = sorted(list(d.values()))\n",
    "    return values == [2,3]"
   ]
  },
  {
   "cell_type": "code",
   "execution_count": null,
   "metadata": {},
   "outputs": [],
   "source": [
    "print(check_fullhouse([1,1,1,6,6]))\n",
    "print(check_fullhouse([2,4,2,4,4]))\n",
    "print(check_fullhouse([1,4,3,5,4]))\n",
    "print(check_fullhouse([1,1,1,6,5]))\n",
    "print(check_fullhouse([2,2,2,2,4]))\n",
    "print(check_fullhouse([3,3,3,3,3]))"
   ]
  },
  {
   "cell_type": "markdown",
   "metadata": {},
   "source": [
    "## Activity 1B\n",
    "\n",
    "Write a function check_straight(), which receives a list of 5 integer values between 1 and 6, corresponding to 5 dice rolls. It should return True, if it consists of a straight, i.e. all values follow each other.\n",
    "\n",
    "For instance:\n",
    "- [1,2,3,4,5] should return True.\n",
    "- [6,4,3,5,2] should return True.\n",
    "- [1,4,3,5,4] should return False.\n",
    "- [1,1,1,6,5] should return False.\n",
    "- [2,2,2,2,4] should return False.\n",
    "- [3,3,3,3,3] should return False."
   ]
  },
  {
   "cell_type": "code",
   "execution_count": null,
   "metadata": {},
   "outputs": [],
   "source": [
    "def check_straight(my_list):\n",
    "    my_list_sorted = sorted(my_list)\n",
    "    return my_list_sorted == [1,2,3,4,5] or my_list_sorted == [2,3,4,5,6]"
   ]
  },
  {
   "cell_type": "code",
   "execution_count": null,
   "metadata": {},
   "outputs": [],
   "source": [
    "print(check_straight([1,2,3,4,5]))\n",
    "print(check_straight([6,4,3,5,2]))\n",
    "print(check_straight([1,4,3,5,4]))\n",
    "print(check_straight([1,1,1,6,5]))\n",
    "print(check_straight([2,2,2,2,4]))\n",
    "print(check_straight([3,3,3,3,3]))"
   ]
  },
  {
   "cell_type": "code",
   "execution_count": null,
   "metadata": {},
   "outputs": [],
   "source": [
    "def check_straight(my_list):\n",
    "    my_list_sorted = sorted(my_list)\n",
    "    for index, value in enumerate(my_list_sorted[:-1]):\n",
    "        if(not value + 1 == my_list_sorted[index + 1]):\n",
    "            return False\n",
    "    return True"
   ]
  },
  {
   "cell_type": "code",
   "execution_count": null,
   "metadata": {},
   "outputs": [],
   "source": [
    "print(check_straight([1,2,3,4,5]))\n",
    "print(check_straight([6,4,3,5,2]))\n",
    "print(check_straight([1,4,3,5,4]))\n",
    "print(check_straight([1,1,1,6,5]))\n",
    "print(check_straight([2,2,2,2,4]))\n",
    "print(check_straight([3,3,3,3,3]))"
   ]
  },
  {
   "cell_type": "markdown",
   "metadata": {},
   "source": [
    "## Activity 2A\n",
    "\n",
    "Write a function count_DNA(), which receives a string of characters containing A,C,T or G characters.\n",
    "It returns a dictionary with the characters A, C, T and G as keys, and the number of time A, C, T and G appear as values.\n",
    "\n",
    "It should return None if the string of characters contains a letter, which is not A, C, T or G.\n",
    "\n",
    "For instance:\n",
    "- \"AACTGCT\" should return {\"A\": 2, \"C\": 2, \"T\":2, \"G\": 1}.\n",
    "- \"ACCTDGTG\" should return None."
   ]
  },
  {
   "cell_type": "code",
   "execution_count": null,
   "metadata": {},
   "outputs": [],
   "source": [
    "def count_DNA(my_str):\n",
    "    d = {\"A\": 0, \"C\": 0, \"T\": 0, \"G\": 0}\n",
    "    for char in my_str:\n",
    "        if char not in d.keys():\n",
    "            return None\n",
    "        else:\n",
    "            d[char] += 1\n",
    "    return d"
   ]
  },
  {
   "cell_type": "code",
   "execution_count": null,
   "metadata": {},
   "outputs": [],
   "source": [
    "print(count_DNA(\"AACTGCT\"))\n",
    "print(count_DNA(\"ACCTDGTG\"))"
   ]
  },
  {
   "cell_type": "markdown",
   "metadata": {},
   "source": [
    "## Activity 2B\n",
    "\n",
    "Write a function count_vcd(), which receives a string of characters. It returns a dictionary with keys \"vowels\", \"consonants\" and \"digits\". The values consists of the number of vowels, consonants and digits inside the string of characters.\n",
    "It should return None if the string of characters contains a special character.\n",
    "\n",
    "For instance:\n",
    "- \"Hello\" should return {\"vowels\": 2, \"consonants\": 3, \"digits\": 0}.\n",
    "- \"Hello99\" should return {\"vowels\": 2, \"consonants\": 3, \"digits\": 2}.\n",
    "- \"Hello99MEH\" should return {\"vowels\": 3, \"consonants\": 5, \"digits\": 2}.\n",
    "- \"P@ssword\" should return None."
   ]
  },
  {
   "cell_type": "code",
   "execution_count": null,
   "metadata": {},
   "outputs": [],
   "source": [
    "def count_vcd(my_str):\n",
    "    d = {\"vowels\": 0, \"consonants\": 0, \"digits\": 0}\n",
    "    vowels_list = [\"a\", \"e\", \"i\", \"o\", \"u\", \"A\", \"E\", \"I\", \"O\", \"U\"]\n",
    "    for char in my_str:\n",
    "        if not char.isalnum():\n",
    "            return None\n",
    "        if char in vowels_list:\n",
    "            d[\"vowels\"] += 1\n",
    "        elif char.isdigit():\n",
    "            d[\"digits\"] += 1\n",
    "        else:\n",
    "            d[\"consonants\"] += 1\n",
    "    return d"
   ]
  },
  {
   "cell_type": "code",
   "execution_count": null,
   "metadata": {},
   "outputs": [],
   "source": [
    "print(count_vcd(\"Hello\"))\n",
    "print(count_vcd(\"Hello99\"))\n",
    "print(count_vcd(\"Hello99MEH\"))\n",
    "print(count_vcd(\"P@ssword\"))"
   ]
  },
  {
   "cell_type": "markdown",
   "metadata": {},
   "source": [
    "## Activity 3A\n",
    "\n",
    "Write a function eng_to_morse(), which receives a string of characters and a morse translation dictionary.\n",
    "It should concert the text in the string of characters (assumed to be uppercase letters only), into morse code.\n",
    "\n",
    "For instance:\n",
    "- \"HELLO\" should return \"......-...-..---\".\n",
    "- \"SUTD\" should return \".....---..\"."
   ]
  },
  {
   "cell_type": "code",
   "execution_count": null,
   "metadata": {},
   "outputs": [],
   "source": [
    "morse_dict = {'A':'.-', 'B':'-...', \\\n",
    "              'C':'-.-.', 'D':'-..', 'E':'.', \\\n",
    "              'F':'..-.', 'G':'--.', 'H':'....', \\\n",
    "              'I':'..', 'J':'.---', 'K':'-.-', \\\n",
    "              'L':'.-..', 'M':'--', 'N':'-.', \\\n",
    "              'O':'---', 'P':'.--.', 'Q':'--.-', \\\n",
    "              'R':'.-.', 'S':'...', 'T':'-', \\\n",
    "              'U':'..-', 'V':'...-', 'W':'.--', \\\n",
    "              'X':'-..-', 'Y':'-.--', 'Z':'--..'}"
   ]
  },
  {
   "cell_type": "code",
   "execution_count": null,
   "metadata": {},
   "outputs": [],
   "source": [
    "def eng_to_morse(my_str, morse_dict):\n",
    "    morse_str = ''\n",
    "    for char in my_str:\n",
    "        morse_str += morse_dict[char]\n",
    "    return morse_str"
   ]
  },
  {
   "cell_type": "code",
   "execution_count": null,
   "metadata": {},
   "outputs": [],
   "source": [
    "print(eng_to_morse(\"HELLO\", morse_dict))\n",
    "print(eng_to_morse(\"SUTD\", morse_dict))"
   ]
  },
  {
   "cell_type": "markdown",
   "metadata": {},
   "source": [
    "## Activity 3B\n",
    "\n",
    "Write a function scrabble_score(), which receives a string of characters (only letters and lowercase) and a scrabble points translation dictionary.\n",
    "It should return an integer corresponding to the number of points scored by said word.\n",
    "\n",
    "For instance:\n",
    "- \"hello\" should return 8.\n",
    "- \"sutd\" should return 5."
   ]
  },
  {
   "cell_type": "code",
   "execution_count": null,
   "metadata": {},
   "outputs": [],
   "source": [
    "scrabble_dict = {\"a\": 1 , \"b\": 3 , \"c\": 3 , \"d\": 2 , \\\n",
    "                 \"e\": 1 , \"f\": 4 , \"g\": 2 , \"h\": 4 , \\\n",
    "                 \"i\": 1 , \"j\": 8 , \"k\": 5 , \"l\": 1 , \\\n",
    "                 \"m\": 3 , \"n\": 1 , \"o\": 1 , \"p\": 3 , \\\n",
    "                 \"q\": 10, \"r\": 1 , \"s\": 1 , \"t\": 1 , \\\n",
    "                 \"u\": 1 , \"v\": 4 , \"w\": 4 , \"x\": 8 , \\\n",
    "                 \"y\": 4 , \"z\": 10}"
   ]
  },
  {
   "cell_type": "code",
   "execution_count": null,
   "metadata": {},
   "outputs": [],
   "source": [
    "def scrabble_score(word, scrabble_dict):\n",
    "    points = 0\n",
    "    for char in word:\n",
    "        points += scrabble_dict[char]\n",
    "    return points"
   ]
  },
  {
   "cell_type": "code",
   "execution_count": null,
   "metadata": {},
   "outputs": [],
   "source": [
    "print(scrabble_score(\"hello\", scrabble_dict))\n",
    "print(scrabble_score(\"sutd\", scrabble_dict))"
   ]
  },
  {
   "cell_type": "markdown",
   "metadata": {},
   "source": [
    "## Activity 4A\n",
    "\n",
    "Write a function whoswho_removal(), which receives three arguments.\n",
    "- The first one is a list of characters defined as tuples with their characteristics as strings, called my_list,\n",
    "- The second one is a characteristic as string, called char, \n",
    "- The third one is a boolean set to True of False, has_it,\n",
    "\n",
    "It should return the list, my_list, with:\n",
    "- all characters possessing the characteristics in char, removed from the list if has_it is False,\n",
    "- only the characters possessing the characteristics in char, if has_it is True,\n",
    "\n",
    "For instance:\n",
    "- If my_list = [(\"blond hair\", \"blue eyes\", \"man\"), (\"black hair\", \"green eyes\", \"man\"), (\"blond hair\", \"blue eyes\", \"man\")], char = \"blond hair\" and has_it = True, the function should return [(\"blond hair\", \"blue eyes\", \"man\"), (\"blond hair\", \"blue eyes\", \"man\")].\n",
    "- If my_list = [(\"blond hair\", \"blue eyes\", \"man\"), (\"black hair\", \"green eyes\", \"man\"), (\"blond hair\", \"blue eyes\", \"woman\")], char = \"man\" and has_it = False, the function should return [('blond hair', 'blue eyes', 'woman')]\n",
    "."
   ]
  },
  {
   "cell_type": "code",
   "execution_count": null,
   "metadata": {},
   "outputs": [],
   "source": [
    "from copy import deepcopy\n",
    "def whoswho_removal(my_list, char, has_it):\n",
    "    my_list2 = deepcopy(my_list)\n",
    "    if has_it:\n",
    "        for elem in my_list:\n",
    "            if char not in elem:\n",
    "                my_list2.remove(elem)\n",
    "    else:\n",
    "        for elem in my_list:\n",
    "            if char in elem:\n",
    "                my_list2.remove(elem)\n",
    "    return my_list2"
   ]
  },
  {
   "cell_type": "code",
   "execution_count": null,
   "metadata": {},
   "outputs": [],
   "source": [
    "my_list = [(\"blond hair\", \"blue eyes\", \"man\"), \\\n",
    "           (\"black hair\", \"green eyes\", \"man\"), \\\n",
    "           (\"blond hair\", \"blue eyes\", \"man\")]\n",
    "char = \"blond hair\"\n",
    "has_it = True\n",
    "print(whoswho_removal(my_list, char, has_it))"
   ]
  },
  {
   "cell_type": "code",
   "execution_count": null,
   "metadata": {},
   "outputs": [],
   "source": [
    "my_list = [(\"blond hair\", \"blue eyes\", \"man\"), \\\n",
    "           (\"black hair\", \"green eyes\", \"man\"), \\\n",
    "           (\"blond hair\", \"blue eyes\", \"woman\")]\n",
    "char = \"man\"\n",
    "has_it = False\n",
    "print(whoswho_removal(my_list, char, has_it))"
   ]
  },
  {
   "cell_type": "markdown",
   "metadata": {},
   "source": [
    "## Activity 4B\n",
    "\n",
    "A polynomial can be represented by a dictionary. Write a function primitive() for integrating such a polynomial.\n",
    "primitive() takes a polynomial as a dictionary argument and returns the dictionary representation of its primitive.\n",
    "If p denotes the polynomial as a dictionary and prim_p a dictionary representing its primitive, we have prim_p[j+1] = p [j]/(j+1) for j running over all keys in p, and prim_p[0] = “constant”.\n",
    "Here is an example of the use of primitive():\n",
    "\n",
    "p = {5: -6, 3: 2, 0: -3}\n",
    "\n",
    "primitive(p) --> produces the result {6: -1, 4: 0.5, 1: -3, 0: “constant”}\n",
    "\n",
    "In the above example, the dictionary p = { 5 : −6, 3 : 2 , 0 : −3 } means that the 0th coefficient is -3, the 3rd coefficient is 2, and the 5th coefficient is -6. This can be written as p(x) = −6x^5 + 2x^3 – 3."
   ]
  },
  {
   "cell_type": "code",
   "execution_count": null,
   "metadata": {},
   "outputs": [],
   "source": [
    "def primitive(p):\n",
    "    prim_p = {}\n",
    "    for j in p.keys():\n",
    "        prim_p[j+1]= p[j]/(j+1)\n",
    "    prim_p[0] = \"constant\"\n",
    "    return prim_p"
   ]
  },
  {
   "cell_type": "code",
   "execution_count": null,
   "metadata": {},
   "outputs": [],
   "source": [
    "def primitive(p):\n",
    "    prim_p = {}\n",
    "    for index, val in p.items():\n",
    "        prim_p[index + 1]= val/(index + 1)\n",
    "    prim_p[0] = \"constant\"\n",
    "    return prim_p"
   ]
  },
  {
   "cell_type": "markdown",
   "metadata": {},
   "source": [
    "# Activity 5A\n",
    "\n",
    "The value of cosine can be approximated by the following formula\n",
    "\n",
    "cos(x) = 1 - x^2/(2!) + x^4/(4!) - x^6/(6!) + x^8/(8!) ...\n",
    "\n",
    "Write a function my_cosine(), which receives a value x, and a strictly positive integer n, and computes the value of cosine using the above formula with n coefficients."
   ]
  },
  {
   "cell_type": "code",
   "execution_count": null,
   "metadata": {},
   "outputs": [],
   "source": [
    "from math import factorial\n",
    "\n",
    "def cosine_coeff(x, n):\n",
    "    if n == 1:\n",
    "        return 1\n",
    "    else:\n",
    "        sub_val = int(n*2 - 2)\n",
    "        val = (-1)**(n-1)*x**sub_val/factorial(sub_val)\n",
    "        return val\n",
    "\n",
    "def my_cosine(x, n):\n",
    "    val = 0\n",
    "    for i in range(n):\n",
    "        val += cosine_coeff(x, i+1)\n",
    "    return round(val,5)"
   ]
  },
  {
   "cell_type": "code",
   "execution_count": null,
   "metadata": {},
   "outputs": [],
   "source": [
    "from numpy import pi\n",
    "print(my_cosine(0, 10))\n",
    "print(my_cosine(pi, 10))\n",
    "print(my_cosine(pi/2, 10))"
   ]
  },
  {
   "cell_type": "markdown",
   "metadata": {},
   "source": [
    "# Activity 5B\n",
    "\n",
    "The value of sine can be approximated by the following formula\n",
    "\n",
    "sin(x) = x - x^3/(3!) + x^5/(5!) - x^7/(7!) + x^9/(9!) ...\n",
    "\n",
    "Write a function my_sine(), which receives a value x, and a strictly positive integer n, and computes the value of sine using the above formula with n coefficients."
   ]
  },
  {
   "cell_type": "code",
   "execution_count": null,
   "metadata": {},
   "outputs": [],
   "source": [
    "from math import factorial\n",
    "\n",
    "def sine_coeff(x, n):\n",
    "    if n == 1:\n",
    "        return x\n",
    "    else:\n",
    "        sub_val = int(n*2 - 1)\n",
    "        val = (-1)**(n-1)*x**sub_val/factorial(sub_val)\n",
    "        return val\n",
    "\n",
    "def my_sine(x, n):\n",
    "    val = 0\n",
    "    for i in range(n):\n",
    "        val += sine_coeff(x, i+1)\n",
    "    return round(val, 5)"
   ]
  },
  {
   "cell_type": "code",
   "execution_count": null,
   "metadata": {},
   "outputs": [],
   "source": [
    "from numpy import pi\n",
    "print(my_sine(0, 10))\n",
    "print(my_sine(pi, 10))\n",
    "print(my_sine(pi/2, 10))"
   ]
  },
  {
   "cell_type": "code",
   "execution_count": null,
   "metadata": {},
   "outputs": [],
   "source": []
  }
 ],
 "metadata": {
  "kernelspec": {
   "display_name": "Python 3",
   "language": "python",
   "name": "python3"
  },
  "language_info": {
   "codemirror_mode": {
    "name": "ipython",
    "version": 3
   },
   "file_extension": ".py",
   "mimetype": "text/x-python",
   "name": "python",
   "nbconvert_exporter": "python",
   "pygments_lexer": "ipython3",
   "version": "3.8.3"
  }
 },
 "nbformat": 4,
 "nbformat_minor": 4
}

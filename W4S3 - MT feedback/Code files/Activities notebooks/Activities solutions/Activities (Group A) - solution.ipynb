{
 "cells": [
  {
   "cell_type": "markdown",
   "metadata": {},
   "source": [
    "# Activities (Group A)"
   ]
  },
  {
   "cell_type": "markdown",
   "metadata": {},
   "source": [
    "### Question 1\n",
    "\n",
    "Write a function **convert_hours()**, which receives a single parameter, **total_hours**, a single positive integer denoting a number of hours.\n",
    "\n",
    "The function returns three values, **weeks**, **days** and **hours**, corresponding to the number of weeks, days and hours in **total_hours**.\n",
    "\n",
    "For instance, \n",
    "- if **total_hours = 7**, the function should return **weeks = 0**, **days = 0** and **hours = 7**,\n",
    "- if **total_hours = 55**, the function should return **weeks = 0**, **days = 2** and **hours = 7**,\n",
    "- if **total_hours = 247**, the function should return **weeks = 1**, **days = 3** and **hours = 7**,"
   ]
  },
  {
   "cell_type": "code",
   "execution_count": null,
   "metadata": {},
   "outputs": [],
   "source": [
    "def convert_hours(total_hours):\n",
    "    weeks = None\n",
    "    days = None\n",
    "    hours = None\n",
    "    return weeks, days, hours\n",
    "\n",
    "print(convert_hours(7))\n",
    "print(convert_hours(55))\n",
    "print(convert_hours(247))"
   ]
  },
  {
   "cell_type": "code",
   "execution_count": null,
   "metadata": {},
   "outputs": [],
   "source": [
    "def convert_hours(total_hours):\n",
    "    weeks = total_hours//(24*7)\n",
    "    days = (total_hours  - weeks*24*7)//24\n",
    "    hours = total_hours - weeks*24*7 - days*24\n",
    "    return weeks, days, hours\n",
    "\n",
    "print(convert_hours(7))\n",
    "print(convert_hours(55))\n",
    "print(convert_hours(247))"
   ]
  },
  {
   "cell_type": "code",
   "execution_count": null,
   "metadata": {},
   "outputs": [],
   "source": [
    "# Hidden test cases\n",
    "weeks, days, hours = convert_hours(257)\n",
    "print(weeks, days, hours)\n",
    "weeks, days, hours = convert_hours(1024)\n",
    "print(weeks, days, hours)\n",
    "weeks, days, hours = convert_hours(34)\n",
    "print(weeks, days, hours)\n",
    "weeks, days, hours = convert_hours(3)\n",
    "print(weeks, days, hours)"
   ]
  },
  {
   "cell_type": "code",
   "execution_count": 62,
   "metadata": {},
   "outputs": [
    {
     "name": "stdout",
     "output_type": "stream",
     "text": [
      "1\n"
     ]
    }
   ],
   "source": [
    "a = 7\n",
    "b = 2\n",
    "# Check for a being odd\n",
    "print(a%b == 1)\n",
    "a = 8\n",
    "b = 2\n",
    "# Check for a being even\n",
    "print(a%b == 0)"
   ]
  },
  {
   "cell_type": "markdown",
   "metadata": {},
   "source": [
    "### Question 2\n",
    "\n",
    "Write a function **is_leap_year()**, which receives a single parameter, **year**, a single strictly positive integer denoting a year.\n",
    "\n",
    "The function returns a single boolean, **is_ly**, which is set to True if the year is a leap year and False otherwise.\n",
    "\n",
    "According to Wikipedia, a leap year is defined as follows:\n",
    "\n",
    "*Every year that is exactly divisible by four is a leap year, except for years that are exactly divisible by 100, but these centurial years are leap years if they are exactly divisible by 400. For example, the years 1700, 1800, and 1900 are not leap years, but the years 1600 and 2000 are.*\n",
    "\n",
    "For instance,\n",
    "- if **year = 1996**, the function should return **is_ly = True**,\n",
    "- if **year = 1997**, the function should return **is_ly = False**,\n",
    "- if **year = 1700**, the function should return **is_ly = False**,\n",
    "- if **year = 2000**, the function should return **is_ly = True**."
   ]
  },
  {
   "cell_type": "code",
   "execution_count": null,
   "metadata": {},
   "outputs": [],
   "source": [
    "def is_leap_year(year):\n",
    "    is_ly = None\n",
    "    return is_ly\n",
    "\n",
    "print(is_leap_year(1996))\n",
    "print(is_leap_year(1997))\n",
    "print(is_leap_year(1700))\n",
    "print(is_leap_year(2000))"
   ]
  },
  {
   "cell_type": "code",
   "execution_count": null,
   "metadata": {},
   "outputs": [],
   "source": [
    "def is_leap_year(year):\n",
    "    if(not year % 4 == 0):\n",
    "        is_ly = False\n",
    "    elif(not year % 100 == 0):\n",
    "        is_ly = True\n",
    "    elif(not year % 400 == 0):\n",
    "        is_ly = False\n",
    "    else:\n",
    "        is_ly = True\n",
    "    return is_ly\n",
    "\n",
    "print(is_leap_year(1996))\n",
    "print(is_leap_year(1997))\n",
    "print(is_leap_year(1700))\n",
    "print(is_leap_year(2000))"
   ]
  },
  {
   "cell_type": "code",
   "execution_count": 72,
   "metadata": {},
   "outputs": [
    {
     "name": "stdout",
     "output_type": "stream",
     "text": [
      "False\n",
      "True\n",
      "False\n",
      "True\n"
     ]
    }
   ],
   "source": [
    "# Hidden test cases\n",
    "res = is_leap_year(2003)\n",
    "print(res)\n",
    "res = is_leap_year(2004)\n",
    "print(res)\n",
    "res = is_leap_year(1800)\n",
    "print(res)\n",
    "res = is_leap_year(1600)\n",
    "print(res)"
   ]
  },
  {
   "cell_type": "markdown",
   "metadata": {},
   "source": [
    "### Question 3\n",
    "\n",
    "Write a function **how_many_divide()**, which receives a single parameter, **number**, a single strictly positive integer denoting a number.\n",
    "\n",
    "The function returns a single integer, **counter**, which corresponds to the number of times the number can be divided by 2, while remaining integer. \n",
    "\n",
    "For instance,\n",
    "- if **number = 3**, the function should return **counter = 0**, because $ 3 = 2^0 \\times 3 $,\n",
    "- if **number = 4**, the function should return **counter = 2**, because $4 = 2^2$,\n",
    "- if **number = 12**, the function should return **counter = 2**, because $12 = 2^2 \\times 3$,\n",
    "- if **number = 64**, the function should return **counter = 6**. because $64 = 2^6$,"
   ]
  },
  {
   "cell_type": "code",
   "execution_count": null,
   "metadata": {},
   "outputs": [],
   "source": [
    "def how_many_divide(number):\n",
    "    counter = None\n",
    "    return counter"
   ]
  },
  {
   "cell_type": "code",
   "execution_count": null,
   "metadata": {},
   "outputs": [],
   "source": [
    "def how_many_divide(number):\n",
    "    \n",
    "    # Other cases\n",
    "    counter = 0\n",
    "    can_divide = True\n",
    "    while(can_divide):\n",
    "        counter += 1\n",
    "        can_divide = ((number % (2**counter)) == 0)\n",
    "    return counter - 1\n",
    "\n",
    "print(how_many_divide(3))\n",
    "print(how_many_divide(4))\n",
    "print(how_many_divide(12))\n",
    "print(how_many_divide(64))"
   ]
  },
  {
   "cell_type": "code",
   "execution_count": null,
   "metadata": {},
   "outputs": [],
   "source": [
    "# Hidden test cases\n",
    "res = how_many_divide(8)\n",
    "print(res)\n",
    "res = how_many_divide(72)\n",
    "print(res)\n",
    "res = how_many_divide(100)\n",
    "print(res)\n",
    "res = how_many_divide(5)\n",
    "print(res)"
   ]
  },
  {
   "cell_type": "markdown",
   "metadata": {},
   "source": [
    "### Question 4\n",
    "\n",
    "Write a function **find_if_triplet()**, which receives a single parameter, **my_list**, a list of integers, with values in ascending order.\n",
    "\n",
    "The function returns a single boolean, **has_triplet**, which is set to True if an element of the list **my_list** appears at least three times. It returns False otherwise.\n",
    "\n",
    "For instance,\n",
    "- if **my_list = [1,1,1]**, the function should return **has_triplet = True**,\n",
    "- if **my_list = [1,2,3,3,3]**, the function should return **has_triplet = True**,\n",
    "- if **my_list = [1,2,2,2,2,3]**, the function should return **has_triplet = True**,\n",
    "- if **my_list = [1,2,2,3,4,4,5]**, the function should return **has_triplet = False**. "
   ]
  },
  {
   "cell_type": "code",
   "execution_count": null,
   "metadata": {},
   "outputs": [],
   "source": [
    "def find_if_triplet(my_list):\n",
    "    has_triplet = None\n",
    "    return has_triplet\n",
    "\n",
    "print(find_if_triplet([1,1,1]))\n",
    "print(find_if_triplet([1,2,3,3,3]))\n",
    "print(find_if_triplet([1,2,2,2,2,3]))\n",
    "print(find_if_triplet([1,2,2,3,4,4,5]))"
   ]
  },
  {
   "cell_type": "code",
   "execution_count": 38,
   "metadata": {},
   "outputs": [
    {
     "name": "stdout",
     "output_type": "stream",
     "text": [
      "True\n",
      "False\n"
     ]
    }
   ],
   "source": [
    "def find_if_triplet(my_list):\n",
    "    for index, value in enumerate(my_list[:-2]):\n",
    "        has_triplet = value == my_list[index + 1] and value == my_list[index + 2]\n",
    "        if(has_triplet):\n",
    "            return True\n",
    "    return False\n",
    "\n",
    "print(find_if_triplet([1,2,3,3,3,4,4,4]))\n",
    "print(find_if_triplet([1,2,2,3,4,4,5]))"
   ]
  },
  {
   "cell_type": "code",
   "execution_count": 32,
   "metadata": {},
   "outputs": [
    {
     "name": "stdout",
     "output_type": "stream",
     "text": [
      "[1, 2, 3]\n"
     ]
    }
   ],
   "source": [
    "my_list = [1,2,3,3,3]\n",
    "print(my_list[:-2])"
   ]
  },
  {
   "cell_type": "code",
   "execution_count": null,
   "metadata": {},
   "outputs": [],
   "source": [
    "def find_if_triplet(my_list):\n",
    "    for index, value in enumerate(my_list[:-2]):\n",
    "        if(value == my_list[index + 1] and value == my_list[index + 2]):\n",
    "            return True\n",
    "    return False\n",
    "\n",
    "print(find_if_triplet([1,1,1]))\n",
    "print(find_if_triplet([1,2,3,3,3]))\n",
    "print(find_if_triplet([1,2,2,2,2,3]))\n",
    "print(find_if_triplet([1,2,2,3,4,4,5]))"
   ]
  },
  {
   "cell_type": "code",
   "execution_count": 46,
   "metadata": {},
   "outputs": [
    {
     "name": "stdout",
     "output_type": "stream",
     "text": [
      "1 False\n",
      "2 True\n",
      "2 True\n",
      "2 True\n",
      "2 True\n",
      "3 True\n",
      "True\n"
     ]
    }
   ],
   "source": [
    "def find_if_triplet(my_list):\n",
    "    for value in my_list:\n",
    "        counter = my_list.count(value)\n",
    "        if(counter >= 3):\n",
    "            return True\n",
    "    return False\n",
    "\n",
    "print(find_if_triplet([1,1,1]))\n",
    "print(find_if_triplet([1,2,3,3,3]))\n",
    "print(find_if_triplet([1,2,2,2,2,3]))\n",
    "print(find_if_triplet([1,2,2,3,4,4,5]))"
   ]
  },
  {
   "cell_type": "code",
   "execution_count": null,
   "metadata": {},
   "outputs": [],
   "source": [
    "# Hidden test cases\n",
    "res = find_if_triplet([7,7,7])\n",
    "print(res)\n",
    "res = find_if_triplet([1,2,2,2])\n",
    "print(res)\n",
    "res = find_if_triplet([1,2,2,3,3,3])\n",
    "print(res)\n",
    "res = find_if_triplet([4,5,5,6,7,7,8,9,9])\n",
    "print(res)"
   ]
  },
  {
   "cell_type": "markdown",
   "metadata": {},
   "source": [
    "### Question 5\n",
    "\n",
    "Write a function **is_sum_squares()**, which receives a single parameter, **number**, a strictly positive integer.\n",
    "The function returns a single boolean, **is_sq**, which is set to True if the number can be written as the sum of two squares, and False otherwise.\n",
    "\n",
    "For instance,\n",
    "- if **number = 9**, the function should return **is_sq = True**, because $ 9 = 0^2 + 3^2 $,\n",
    "- if **number = 5**, the function should return **is_sq = True**, because $ 5 = 1^2 + 2^2 $,\n",
    "- if **number = 50**, the function should return **is_sq = True**, because $ 50 = 5^2 + 5^2 $,\n",
    "- if **number = 7**, the function should return **is_sq = False**, because it cannot be written as a sum of two squares."
   ]
  },
  {
   "cell_type": "code",
   "execution_count": null,
   "metadata": {},
   "outputs": [],
   "source": [
    "def is_sum_squares(number):\n",
    "    is_sq = None\n",
    "    return is_sq\n",
    "\n",
    "print(is_sum_squares(9))\n",
    "print(is_sum_squares(5))\n",
    "print(is_sum_squares(50))\n",
    "print(is_sum_squares(7))"
   ]
  },
  {
   "cell_type": "code",
   "execution_count": null,
   "metadata": {},
   "outputs": [],
   "source": [
    "def is_sum_squares(number):\n",
    "    \n",
    "    bound = number**0.5\n",
    "    # Shortcut: check if number is already a perfect square?\n",
    "    if(int(bound) == bound):\n",
    "        return True\n",
    "    else:\n",
    "        bound = int(bound)\n",
    "        \n",
    "    # Otherwise check all possible combinations\n",
    "    for number1 in range(bound + 1):\n",
    "        for number2 in range(bound + 1):\n",
    "            if(number1**2 + number2**2 == number):\n",
    "                return True\n",
    "    return False\n",
    "\n",
    "print(is_sum_squares(9))\n",
    "print(is_sum_squares(5))\n",
    "print(is_sum_squares(50))\n",
    "print(is_sum_squares(7))"
   ]
  },
  {
   "cell_type": "code",
   "execution_count": null,
   "metadata": {},
   "outputs": [],
   "source": [
    "# Hidden test cases\n",
    "res = is_sum_squares(16)\n",
    "print(res)\n",
    "res = is_sum_squares(32)\n",
    "print(res)\n",
    "res = is_sum_squares(48)\n",
    "print(res)\n",
    "res = is_sum_squares(52)\n",
    "print(res)"
   ]
  },
  {
   "cell_type": "code",
   "execution_count": null,
   "metadata": {},
   "outputs": [],
   "source": []
  }
 ],
 "metadata": {
  "kernelspec": {
   "display_name": "Python 3",
   "language": "python",
   "name": "python3"
  },
  "language_info": {
   "codemirror_mode": {
    "name": "ipython",
    "version": 3
   },
   "file_extension": ".py",
   "mimetype": "text/x-python",
   "name": "python",
   "nbconvert_exporter": "python",
   "pygments_lexer": "ipython3",
   "version": "3.8.3"
  }
 },
 "nbformat": 4,
 "nbformat_minor": 4
}

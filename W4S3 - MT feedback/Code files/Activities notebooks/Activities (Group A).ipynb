{
 "cells": [
  {
   "cell_type": "markdown",
   "metadata": {},
   "source": [
    "# Activities (Group A)"
   ]
  },
  {
   "cell_type": "markdown",
   "metadata": {},
   "source": [
    "### Question 1\n",
    "\n",
    "Write a function **convert_hours()**, which receives a single parameter, **total_hours**, a single positive integer denoting a number of hours.\n",
    "\n",
    "The function returns three values, **weeks**, **days** and **hours**, corresponding to the number of weeks, days and hours in **total_hours**.\n",
    "\n",
    "For instance, \n",
    "- if **total_hours = 7**, the function should return **weeks = 0**, **days = 0** and **hours = 7**,\n",
    "- if **total_hours = 55**, the function should return **weeks = 0**, **days = 2** and **hours = 7**,\n",
    "- if **total_hours = 247**, the function should return **weeks = 1**, **days = 3** and **hours = 7**,"
   ]
  },
  {
   "cell_type": "code",
   "execution_count": 2,
   "metadata": {},
   "outputs": [
    {
     "name": "stdout",
     "output_type": "stream",
     "text": [
      "(None, None, None)\n",
      "(None, None, None)\n",
      "(None, None, None)\n"
     ]
    }
   ],
   "source": [
    "def convert_hours(total_hours):\n",
    "    weeks = None\n",
    "    days = None\n",
    "    hours = None\n",
    "    return weeks, days, hours\n",
    "print(convert_hours(7))\n",
    "print(convert_hours(55))\n",
    "print(convert_hours(247))"
   ]
  },
  {
   "cell_type": "markdown",
   "metadata": {},
   "source": [
    "### Question 2\n",
    "\n",
    "Write a function **is_leap_year()**, which receives a single parameter, **year**, a single strictly positive integer denoting a year.\n",
    "\n",
    "The function returns a single boolean, **is_ly**, which is set to True if the year is a leap year and False otherwise.\n",
    "\n",
    "According to Wikipedia, a leap year is defined as follows:\n",
    "\n",
    "*Every year that is exactly divisible by four is a leap year, except for years that are exactly divisible by 100, but these centurial years are leap years if they are exactly divisible by 400. For example, the years 1700, 1800, and 1900 are not leap years, but the years 1600 and 2000 are.*\n",
    "\n",
    "For instance,\n",
    "- if **year = 1996**, the function should return **is_ly = True**,\n",
    "- if **year = 1997**, the function should return **is_ly = False**,\n",
    "- if **year = 1700**, the function should return **is_ly = False**,\n",
    "- if **year = 2000**, the function should return **is_ly = True**."
   ]
  },
  {
   "cell_type": "code",
   "execution_count": null,
   "metadata": {},
   "outputs": [],
   "source": [
    "def is_leap_year(year):\n",
    "    is_ly = None\n",
    "    return is_ly\n",
    "\n",
    "print(is_leap_year(1996))\n",
    "print(is_leap_year(1997))\n",
    "print(is_leap_year(1700))\n",
    "print(is_leap_year(2000))"
   ]
  },
  {
   "cell_type": "markdown",
   "metadata": {},
   "source": [
    "### Question 3\n",
    "\n",
    "Write a function **how_many_divide()**, which receives a single parameter, **number**, a single strictly positive integer denoting a number.\n",
    "\n",
    "The function returns a single integer, **counter**, which corresponds to the number of times the number can be divided by 2, while remaining integer. \n",
    "\n",
    "For instance,\n",
    "- if **number = 3**, the function should return **counter = 0**, because $ 3 = 2^0 \\times 3 $,\n",
    "- if **number = 4**, the function should return **counter = 2**, because $4 = 2^2$,\n",
    "- if **number = 12**, the function should return **counter = 2**, because $12 = 2^2 \\times 3$,\n",
    "- if **number = 64**, the function should return **counter = 6**. because $64 = 2^6$,"
   ]
  },
  {
   "cell_type": "code",
   "execution_count": null,
   "metadata": {},
   "outputs": [],
   "source": [
    "def how_many_divide(number):\n",
    "    counter = None\n",
    "    return counter"
   ]
  },
  {
   "cell_type": "markdown",
   "metadata": {},
   "source": [
    "### Question 4\n",
    "\n",
    "Write a function **find_if_triplet()**, which receives a single parameter, **my_list**, a list of integers, with values in ascending order.\n",
    "\n",
    "The function returns a single boolean, **has_triplet**, which is set to True if an element of the list **my_list** appears at least three times. It returns False otherwise.\n",
    "\n",
    "For instance,\n",
    "- if **my_list = [1,1,1]**, the function should return **has_triplet = True**,\n",
    "- if **my_list = [1,2,3,3,3]**, the function should return **has_triplet = True**,\n",
    "- if **my_list = [1,2,2,2,2,3]**, the function should return **has_triplet = True**,\n",
    "- if **my_list = [1,2,2,3,4,4,5]**, the function should return **has_triplet = False**. "
   ]
  },
  {
   "cell_type": "code",
   "execution_count": 7,
   "metadata": {},
   "outputs": [
    {
     "ename": "NameError",
     "evalue": "name 'find_if_triple' is not defined",
     "output_type": "error",
     "traceback": [
      "\u001b[1;31m---------------------------------------------------------------------------\u001b[0m",
      "\u001b[1;31mNameError\u001b[0m                                 Traceback (most recent call last)",
      "\u001b[1;32m<ipython-input-7-73ee7c7ba1e6>\u001b[0m in \u001b[0;36m<module>\u001b[1;34m\u001b[0m\n\u001b[0;32m      3\u001b[0m     \u001b[1;32mreturn\u001b[0m \u001b[0mhas_triplet\u001b[0m\u001b[1;33m\u001b[0m\u001b[1;33m\u001b[0m\u001b[0m\n\u001b[0;32m      4\u001b[0m \u001b[1;33m\u001b[0m\u001b[0m\n\u001b[1;32m----> 5\u001b[1;33m \u001b[0mprint\u001b[0m\u001b[1;33m(\u001b[0m\u001b[0mfind_if_triple\u001b[0m\u001b[1;33m(\u001b[0m\u001b[1;33m[\u001b[0m\u001b[1;36m1\u001b[0m\u001b[1;33m,\u001b[0m\u001b[1;36m1\u001b[0m\u001b[1;33m,\u001b[0m\u001b[1;36m1\u001b[0m\u001b[1;33m]\u001b[0m\u001b[1;33m)\u001b[0m\u001b[1;33m)\u001b[0m\u001b[1;33m\u001b[0m\u001b[1;33m\u001b[0m\u001b[0m\n\u001b[0m\u001b[0;32m      6\u001b[0m \u001b[0mprint\u001b[0m\u001b[1;33m(\u001b[0m\u001b[0mfind_if_triple\u001b[0m\u001b[1;33m(\u001b[0m\u001b[1;33m[\u001b[0m\u001b[1;36m1\u001b[0m\u001b[1;33m,\u001b[0m\u001b[1;36m2\u001b[0m\u001b[1;33m,\u001b[0m\u001b[1;36m3\u001b[0m\u001b[1;33m,\u001b[0m\u001b[1;36m3\u001b[0m\u001b[1;33m,\u001b[0m\u001b[1;36m3\u001b[0m\u001b[1;33m]\u001b[0m\u001b[1;33m)\u001b[0m\u001b[1;33m)\u001b[0m\u001b[1;33m\u001b[0m\u001b[1;33m\u001b[0m\u001b[0m\n\u001b[0;32m      7\u001b[0m \u001b[0mprint\u001b[0m\u001b[1;33m(\u001b[0m\u001b[0mfind_if_triple\u001b[0m\u001b[1;33m(\u001b[0m\u001b[1;33m[\u001b[0m\u001b[1;36m1\u001b[0m\u001b[1;33m,\u001b[0m\u001b[1;36m2\u001b[0m\u001b[1;33m,\u001b[0m\u001b[1;36m2\u001b[0m\u001b[1;33m,\u001b[0m\u001b[1;36m2\u001b[0m\u001b[1;33m,\u001b[0m\u001b[1;36m2\u001b[0m\u001b[1;33m,\u001b[0m\u001b[1;36m3\u001b[0m\u001b[1;33m]\u001b[0m\u001b[1;33m)\u001b[0m\u001b[1;33m)\u001b[0m\u001b[1;33m\u001b[0m\u001b[1;33m\u001b[0m\u001b[0m\n",
      "\u001b[1;31mNameError\u001b[0m: name 'find_if_triple' is not defined"
     ]
    }
   ],
   "source": [
    "def find_if_triplet(my_list):\n",
    "    has_triplet = None\n",
    "    return has_triplet\n",
    "\n",
    "print(find_if_triplet([1,1,1])\n",
    "print(find_if_triplet([1,2,3,3,3]))\n",
    "print(find_if_triplet([1,2,2,2,2,3]))\n",
    "print(find_if_triplet([1,2,2,3,4,4,5]))"
   ]
  },
  {
   "cell_type": "markdown",
   "metadata": {},
   "source": [
    "### Question 5\n",
    "\n",
    "Write a function **is_sum_squares()**, which receives a single parameter, **number**, a strictly positive integer.\n",
    "The function returns a single boolean, **is_sq**, which is set to True if the number can be written as the sum of two squares, and False otherwise.\n",
    "\n",
    "For instance,\n",
    "- if **number = 9**, the function should return **is_sq = True**, because $ 9 = 0^2 + 3^2 $,\n",
    "- if **number = 5**, the function should return **is_sq = True**, because $ 5 = 1^2 + 2^2 $,\n",
    "- if **number = 50**, the function should return **is_sq = True**, because $ 50 = 5^2 + 5^2 $,\n",
    "- if **number = 7**, the function should return **is_sq = False**, because it cannot be written as a sum of two squares."
   ]
  },
  {
   "cell_type": "code",
   "execution_count": null,
   "metadata": {},
   "outputs": [],
   "source": [
    "def is_sum_squares(number):\n",
    "    is_sq = None\n",
    "    return is_sq\n",
    "\n",
    "print(is_sum_squares(9))\n",
    "print(is_sum_squares(5))\n",
    "print(is_sum_squares(50))\n",
    "print(is_sum_squares(7))"
   ]
  },
  {
   "cell_type": "code",
   "execution_count": null,
   "metadata": {},
   "outputs": [],
   "source": []
  }
 ],
 "metadata": {
  "kernelspec": {
   "display_name": "Python 3",
   "language": "python",
   "name": "python3"
  },
  "language_info": {
   "codemirror_mode": {
    "name": "ipython",
    "version": 3
   },
   "file_extension": ".py",
   "mimetype": "text/x-python",
   "name": "python",
   "nbconvert_exporter": "python",
   "pygments_lexer": "ipython3",
   "version": "3.8.3"
  }
 },
 "nbformat": 4,
 "nbformat_minor": 4
}

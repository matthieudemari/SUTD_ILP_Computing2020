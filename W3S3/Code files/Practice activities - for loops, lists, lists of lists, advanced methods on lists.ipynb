{
 "cells": [
  {
   "cell_type": "markdown",
   "metadata": {},
   "source": [
    "# Practice activities - for loops, lists, lists of lists, advanced methods on lists."
   ]
  },
  {
   "cell_type": "markdown",
   "metadata": {},
   "source": [
    "## 1. Remove duplicates\n",
    "\n",
    "Write a function that receives a list of integers, as the one below."
   ]
  },
  {
   "cell_type": "code",
   "execution_count": 30,
   "metadata": {},
   "outputs": [],
   "source": [
    "integers_list = [1,2,4,5,4,8,6,7,1]"
   ]
  },
  {
   "cell_type": "markdown",
   "metadata": {},
   "source": [
    "The function should remove all duplicates from the list and return a list consisting of the elements, with duplicates removed. In the example shown above, the expected output of the function should be as shown below."
   ]
  },
  {
   "cell_type": "code",
   "execution_count": null,
   "metadata": {},
   "outputs": [],
   "source": [
    "result = [1,2,4,5,8,6,7]"
   ]
  },
  {
   "cell_type": "markdown",
   "metadata": {},
   "source": [
    "### Your code below!"
   ]
  },
  {
   "cell_type": "code",
   "execution_count": 70,
   "metadata": {},
   "outputs": [
    {
     "name": "stdout",
     "output_type": "stream",
     "text": [
      "[1, 2, 4, 5, 8, 6, 7]\n",
      "[1]\n",
      "[]\n"
     ]
    }
   ],
   "source": [
    "def function(my_list):\n",
    "    new_list = []\n",
    "    for element in my_list:\n",
    "        if(element not in new_list):\n",
    "            new_list.append(element)\n",
    "    return new_list\n",
    "print(function([1,2,4,5,4,8,6,7,1]))\n",
    "print(function([1,1,1,1,1,1,1,1,1,1,1]))\n",
    "print(function([]))"
   ]
  },
  {
   "cell_type": "markdown",
   "metadata": {},
   "source": [
    "## 2. Remove outliers\n",
    "\n",
    "Write a function that receives a list of integers, as the one below."
   ]
  },
  {
   "cell_type": "code",
   "execution_count": null,
   "metadata": {},
   "outputs": [],
   "source": [
    "integers_list = [1,2,4,5,4,8,6,7,1]"
   ]
  },
  {
   "cell_type": "markdown",
   "metadata": {},
   "source": [
    "The function should remove all the occurrences of the minimal and maximal values from the list. The expected output for the list shown above, should then be"
   ]
  },
  {
   "cell_type": "code",
   "execution_count": null,
   "metadata": {},
   "outputs": [],
   "source": [
    "result = [2,4,5,4,6,7]"
   ]
  },
  {
   "cell_type": "markdown",
   "metadata": {},
   "source": [
    "### Your code below!"
   ]
  },
  {
   "cell_type": "code",
   "execution_count": 73,
   "metadata": {},
   "outputs": [
    {
     "name": "stdout",
     "output_type": "stream",
     "text": [
      "[2, 4, 5, 4, 6, 7]\n",
      "[]\n",
      "[]\n"
     ]
    }
   ],
   "source": [
    "def function(my_list):\n",
    "    \n",
    "    if(len(my_list) == 0):\n",
    "        return []\n",
    "    \n",
    "    min_val = min(my_list)\n",
    "    max_val = max(my_list)\n",
    "    new_list = []\n",
    "    for element in my_list:\n",
    "        if(element != min_val and element != max_val):\n",
    "            new_list.append(element)\n",
    "    return new_list\n",
    "print(function([1,2,4,5,4,8,6,7,1]))\n",
    "print(function([1,1,1,1,1,1,1,1,1,1,1]))\n",
    "print(function([]))"
   ]
  },
  {
   "cell_type": "code",
   "execution_count": 74,
   "metadata": {},
   "outputs": [
    {
     "name": "stdout",
     "output_type": "stream",
     "text": [
      "[2, 4, 5, 4, 6, 7]\n",
      "[]\n",
      "[]\n"
     ]
    }
   ],
   "source": [
    "def function(my_list):\n",
    "    \n",
    "    if(len(my_list) == 0):\n",
    "        return []\n",
    "    \n",
    "    min_val = min(my_list)\n",
    "    max_val = max(my_list)\n",
    "    \n",
    "    while(min_val in my_list):\n",
    "        my_list.remove(min_val)\n",
    "    while(max_val in my_list):\n",
    "        my_list.remove(max_val)\n",
    "    \n",
    "    return my_list\n",
    "print(function([1,2,4,5,4,8,6,7,1]))\n",
    "print(function([1,1,1,1,1,1,1,1,1,1,1]))\n",
    "print(function([]))"
   ]
  },
  {
   "cell_type": "code",
   "execution_count": 96,
   "metadata": {},
   "outputs": [
    {
     "name": "stdout",
     "output_type": "stream",
     "text": [
      "None\n"
     ]
    }
   ],
   "source": [
    "def outlier_removal(my_list):\n",
    "    #1 max\n",
    "    maximum_value = max(my_list)\n",
    "    #2 min\n",
    "    minimum_value = min(my_list)\n",
    "    #3 remove max\n",
    "    while maximum_value in my_list:\n",
    "        my_list.remove(maximum_value)\n",
    "    #4 remove min\n",
    "    while minimum_value in my_list:\n",
    "        my_list.remove(minimum_value)\n",
    "        \n",
    "    return None\n",
    "print(outlier_removal([1,2,4,5,4,8,6,7,1]))\n"
   ]
  },
  {
   "cell_type": "markdown",
   "metadata": {},
   "source": [
    "## 3. Positive and negative sublists\n",
    "\n",
    "Write a function that receives a list of integers, as the one below."
   ]
  },
  {
   "cell_type": "code",
   "execution_count": null,
   "metadata": {},
   "outputs": [],
   "source": [
    "integers_list = [-1,2,0,4,-5,4,0,8,6,-7,1]"
   ]
  },
  {
   "cell_type": "markdown",
   "metadata": {},
   "source": [
    "The function should return three lists, containing all occurrences of strictly positive, strictly negative and zeros inside the given list. The expected output for the list above would then be"
   ]
  },
  {
   "cell_type": "code",
   "execution_count": null,
   "metadata": {},
   "outputs": [],
   "source": [
    "positives = [2,4,4,8,6,1]\n",
    "negatives = [-1,-5,-7]\n",
    "zeroes = [0,0]"
   ]
  },
  {
   "cell_type": "markdown",
   "metadata": {},
   "source": [
    "### Your code below!"
   ]
  },
  {
   "cell_type": "code",
   "execution_count": 79,
   "metadata": {},
   "outputs": [
    {
     "name": "stdout",
     "output_type": "stream",
     "text": [
      "([2, 4, 4, 8, 6, 1], [-1, -5, -7], [0, 0])\n"
     ]
    }
   ],
   "source": [
    "def function(my_list):\n",
    "    \n",
    "    positives = []\n",
    "    negatives = []\n",
    "    zeroes = []\n",
    "    \n",
    "    for element in my_list:\n",
    "        if(element > 0):\n",
    "            positives.append(element)\n",
    "        elif(element < 0):\n",
    "            negatives.append(element)\n",
    "        elif(element == 0):\n",
    "            zeroes.append(element)\n",
    "            \n",
    "    return positives, negatives, zeroes\n",
    "\n",
    "print(function([-1,2,0,4,-5,4,0,8,6,-7,1]))"
   ]
  },
  {
   "cell_type": "markdown",
   "metadata": {},
   "source": [
    "## 4. List of positive divisors\n",
    "\n",
    "Write a function that receives a single strictly positive integer number, such as the one shown below."
   ]
  },
  {
   "cell_type": "code",
   "execution_count": null,
   "metadata": {},
   "outputs": [],
   "source": [
    "integer = 12"
   ]
  },
  {
   "cell_type": "markdown",
   "metadata": {},
   "source": [
    "The function should return a list, which contains all the proper divisors of this number, sorted in ascending order. In the case of integer = 12 above, the expected output is then"
   ]
  },
  {
   "cell_type": "code",
   "execution_count": null,
   "metadata": {},
   "outputs": [],
   "source": [
    "divisors = [1,2,3,4,6,12]"
   ]
  },
  {
   "cell_type": "markdown",
   "metadata": {},
   "source": [
    "### Your code below!"
   ]
  },
  {
   "cell_type": "code",
   "execution_count": 93,
   "metadata": {},
   "outputs": [
    {
     "ename": "SyntaxError",
     "evalue": "invalid syntax (<ipython-input-93-0f266e39aeef>, line 11)",
     "output_type": "error",
     "traceback": [
      "\u001b[1;36m  File \u001b[1;32m\"<ipython-input-93-0f266e39aeef>\"\u001b[1;36m, line \u001b[1;32m11\u001b[0m\n\u001b[1;33m    index1 = ?\u001b[0m\n\u001b[1;37m             ^\u001b[0m\n\u001b[1;31mSyntaxError\u001b[0m\u001b[1;31m:\u001b[0m invalid syntax\n"
     ]
    }
   ],
   "source": [
    "def stats(mylist):\n",
    "    mylist.sort()\n",
    "    a = len(mylist)\n",
    "    print(\"Max value =\", max(mylist))\n",
    "    print(\"Min Value =\" , min(mylist))\n",
    "    mean = sum(mylist)/len(mylist)\n",
    "    print(\"Mean value =\", mean)\n",
    "    if len(mylist) %2 != 0:\n",
    "        print(\"Median value = \", str(mylist[(a//2)+1]))\n",
    "    else:\n",
    "        index1 = ?\n",
    "        index2 = ?\n",
    "        print(index1, index2)\n",
    "        median_value = ?\n",
    "        print(\"Median value =\", median_value)\n",
    "numbers_list = [1,2,2,4]\n",
    "stats(numbers_list)"
   ]
  },
  {
   "cell_type": "code",
   "execution_count": 84,
   "metadata": {},
   "outputs": [
    {
     "ename": "TypeError",
     "evalue": "'int' object is not callable",
     "output_type": "error",
     "traceback": [
      "\u001b[1;31m---------------------------------------------------------------------------\u001b[0m",
      "\u001b[1;31mTypeError\u001b[0m                                 Traceback (most recent call last)",
      "\u001b[1;32m<ipython-input-84-81efbfbd544a>\u001b[0m in \u001b[0;36m<module>\u001b[1;34m\u001b[0m\n\u001b[0;32m      1\u001b[0m \u001b[0ma\u001b[0m \u001b[1;33m=\u001b[0m \u001b[1;36m10\u001b[0m\u001b[1;33m\u001b[0m\u001b[1;33m\u001b[0m\u001b[0m\n\u001b[1;32m----> 2\u001b[1;33m \u001b[0mprint\u001b[0m\u001b[1;33m(\u001b[0m\u001b[0ma\u001b[0m\u001b[1;33m(\u001b[0m\u001b[1;36m10\u001b[0m\u001b[1;33m)\u001b[0m\u001b[1;33m)\u001b[0m\u001b[1;33m\u001b[0m\u001b[1;33m\u001b[0m\u001b[0m\n\u001b[0m",
      "\u001b[1;31mTypeError\u001b[0m: 'int' object is not callable"
     ]
    }
   ],
   "source": [
    "a = 10\n",
    "print(a(10))"
   ]
  },
  {
   "cell_type": "markdown",
   "metadata": {},
   "source": [
    "## 5. Below and above average\n",
    "\n",
    "Write a function that receives a list of integers, such as the one shown below."
   ]
  },
  {
   "cell_type": "code",
   "execution_count": null,
   "metadata": {},
   "outputs": [],
   "source": [
    "integers_list = [1,2,4,5,4,8,6,8]"
   ]
  },
  {
   "cell_type": "markdown",
   "metadata": {},
   "source": [
    "The function should return three parameters:\n",
    "- the first one is the average value of the elements in the list,\n",
    "- the second is a list containing the elements with values strictly lower than the average value,\n",
    "- and the third is a list containing the elements with values strictly higher than the average value,"
   ]
  },
  {
   "cell_type": "code",
   "execution_count": null,
   "metadata": {},
   "outputs": [],
   "source": [
    "avg_value = 4.75\n",
    "lower = [1,2,4,4]\n",
    "higher = [5,8,6,8]"
   ]
  },
  {
   "cell_type": "markdown",
   "metadata": {},
   "source": [
    "### Your code below!"
   ]
  },
  {
   "cell_type": "code",
   "execution_count": 81,
   "metadata": {},
   "outputs": [
    {
     "name": "stdout",
     "output_type": "stream",
     "text": [
      "(4.75, [5, 8, 6, 8], [1, 2, 4, 4])\n"
     ]
    }
   ],
   "source": [
    "def function(integers_list):\n",
    "    avg = sum(integers_list)/len(integers_list)\n",
    "    lower_list = []\n",
    "    higher_list = []\n",
    "    for values in integers_list:\n",
    "        if(avg < values):\n",
    "            lower_list.append(values)\n",
    "        if(avg > values):\n",
    "            higher_list.append(values)\n",
    "    return(avg, lower_list, higher_list)\n",
    "print(function([1,2,4,5,4,8,6,8]))"
   ]
  },
  {
   "cell_type": "markdown",
   "metadata": {},
   "source": [
    "## 6. Lottery gains computation\n",
    "\n",
    "Write a function that receives two lists:\n",
    "- the first list contains six elements, which correspond to the numbers of a lottery ticket, bought by the user,\n",
    "- the second list also contains six elements, which correspond to the numbers drawn for this lottery.\n",
    "\n",
    "An example is shown below."
   ]
  },
  {
   "cell_type": "code",
   "execution_count": null,
   "metadata": {},
   "outputs": [],
   "source": [
    "ticket_numbers = [2,3,7,17,21,36]\n",
    "winning_numbers = [3,11,13,17,24,28]"
   ]
  },
  {
   "cell_type": "markdown",
   "metadata": {},
   "source": [
    "The function should return the number of winning numbers that the ticket contains, based on the drawn numbers. In the example shown above, it should return"
   ]
  },
  {
   "cell_type": "code",
   "execution_count": null,
   "metadata": {},
   "outputs": [],
   "source": [
    "number = 2"
   ]
  },
  {
   "cell_type": "markdown",
   "metadata": {},
   "source": [
    "### Your code below!"
   ]
  },
  {
   "cell_type": "code",
   "execution_count": 94,
   "metadata": {},
   "outputs": [
    {
     "name": "stdout",
     "output_type": "stream",
     "text": [
      "2\n",
      "4\n"
     ]
    }
   ],
   "source": [
    "def dont_gamble(ticket_numbers, winning_numbers):\n",
    "    number = 0\n",
    "    for i in ticket_numbers:\n",
    "        if i in winning_numbers:\n",
    "            number += 1\n",
    "    return number\n",
    "\n",
    "print(dont_gamble([2,3,7,17,21,36],[3,11,13,17,24,28]))\n",
    "print(dont_gamble([2,3,11,17,24,36],[3,11,13,17,24,28]))"
   ]
  },
  {
   "cell_type": "markdown",
   "metadata": {},
   "source": [
    "## 7. Min, max, mean and median\n",
    "\n",
    "Write a function that receives a list, as shown below.\n",
    "The list will have no duplicates."
   ]
  },
  {
   "cell_type": "code",
   "execution_count": 83,
   "metadata": {},
   "outputs": [
    {
     "name": "stdout",
     "output_type": "stream",
     "text": [
      "[1, 2, 4, 5, 7, 7]\n"
     ]
    }
   ],
   "source": [
    "numbers_list = [1,2,4,5,7,7,8]\n",
    "print([1,2,4,5,7,7])"
   ]
  },
  {
   "cell_type": "markdown",
   "metadata": {},
   "source": [
    "The function should return four numbers, corresponding to the min, max, mean and median values in the list"
   ]
  },
  {
   "cell_type": "code",
   "execution_count": null,
   "metadata": {},
   "outputs": [],
   "source": [
    "min_val = 1\n",
    "max_val = 8\n",
    "mean_val = 4.857142857142857\n",
    "median_val = 5"
   ]
  },
  {
   "cell_type": "markdown",
   "metadata": {},
   "source": [
    "### Your code below!"
   ]
  },
  {
   "cell_type": "code",
   "execution_count": 144,
   "metadata": {},
   "outputs": [
    {
     "name": "stdout",
     "output_type": "stream",
     "text": [
      "[1, 2, 3, 4, 6, 7, 8]\n",
      "3\n",
      "4\n"
     ]
    }
   ],
   "source": [
    "a = [1,2,6,8,3,4,7]\n",
    "a.sort()\n",
    "print(a)\n",
    "index = len(a)//2\n",
    "index = int((len(a) - 1)/2)\n",
    "print(index)\n",
    "median = a[index]\n",
    "print(median)"
   ]
  },
  {
   "cell_type": "code",
   "execution_count": 145,
   "metadata": {},
   "outputs": [
    {
     "name": "stdout",
     "output_type": "stream",
     "text": [
      "[1, 2, 3, 4, 6, 8]\n",
      "3\n",
      "2\n",
      "3.5\n"
     ]
    }
   ],
   "source": [
    "a = [1,2,6,8,3,4]\n",
    "a.sort()\n",
    "print(a)\n",
    "index1 = len(a)//2\n",
    "index2 = index1 - 1\n",
    "print(index1)\n",
    "print(index2)\n",
    "median = (a[index1] + a[index2])/2\n",
    "print(median)"
   ]
  },
  {
   "cell_type": "code",
   "execution_count": 139,
   "metadata": {},
   "outputs": [
    {
     "name": "stdout",
     "output_type": "stream",
     "text": [
      "[1]\n",
      "[]\n",
      "1779002777856\n",
      "1779003001408\n"
     ]
    }
   ],
   "source": [
    "i = []\n",
    "working = i[:]\n",
    "working.append(1)\n",
    "print(working)\n",
    "print(i)\n",
    "print(id(i))\n",
    "print(id(working))"
   ]
  },
  {
   "cell_type": "code",
   "execution_count": null,
   "metadata": {},
   "outputs": [],
   "source": [
    "def function(x):\n",
    "    # What now?\n",
    "    \n",
    "    # 1. Create an empty list to collect something\n",
    "    \n",
    "    # 2. Check if these values work, and if so add them to my previous list\n",
    "    \n",
    "    # "
   ]
  },
  {
   "cell_type": "code",
   "execution_count": 142,
   "metadata": {},
   "outputs": [
    {
     "name": "stdout",
     "output_type": "stream",
     "text": [
      "1\n",
      "8\n",
      "4.857142857142857\n",
      "7\n",
      "5\n",
      "(1, 8, 4.857142857142857, 5)\n",
      "---\n",
      "4\n",
      "8\n",
      "5.666666666666667\n",
      "6\n",
      "(4, 8, 5.666666666666667, 5.5)\n"
     ]
    }
   ],
   "source": [
    "def min_max_mean_med(numbers_list):\n",
    "    \n",
    "    numbers_list.sort()\n",
    "    \n",
    "    min_val = min(numbers_list)\n",
    "    print(min_val)\n",
    "    \n",
    "    max_val = max(numbers_list)\n",
    "    print(max_val)\n",
    "    \n",
    "    mean_val = sum(numbers_list)/len(numbers_list)\n",
    "    print(mean_val)\n",
    "    \n",
    "    #to check the length of the list\n",
    "    print(len(numbers_list))\n",
    "    \n",
    "    if len(numbers_list)% 2 == 0:\n",
    "        median1 = numbers_list[len(numbers_list)//2] \n",
    "        median2 = numbers_list[len(numbers_list)//2 - 1] \n",
    "        median_val = (median1 + median2)/2\n",
    "    if len(numbers_list)% 2 == 1:   \n",
    "        median_val = numbers_list[len(numbers_list)//2] \n",
    "        print(median_val)\n",
    "        \n",
    "    return min_val, max_val, mean_val, median_val\n",
    "\n",
    "print(min_max_mean_med([1,2,4,5,7,7,8]))\n",
    "print(\"---\")\n",
    "print(min_max_mean_med([8,5,4,6,7,4]))\n"
   ]
  },
  {
   "cell_type": "code",
   "execution_count": 113,
   "metadata": {},
   "outputs": [
    {
     "name": "stdout",
     "output_type": "stream",
     "text": [
      "False\n"
     ]
    }
   ],
   "source": [
    "a = [[1,4], [2,6], [7,8]]\n",
    "print([1,4] in a)"
   ]
  },
  {
   "cell_type": "code",
   "execution_count": 114,
   "metadata": {},
   "outputs": [
    {
     "name": "stdout",
     "output_type": "stream",
     "text": [
      "2\n"
     ]
    }
   ],
   "source": [
    "def function(ticket_numbers, winning_numbers):\n",
    "    win_list = []\n",
    "    for values in ticket_numbers:\n",
    "        for comparing_numbers in winning_numbers:\n",
    "            if(comparing_numbers == values):\n",
    "                win_list.append(comparing_numbers)\n",
    "    win_list2 = len(win_list)\n",
    "    return(win_list2)\n",
    "print(function([2,3,7,17,21,36],[3,11,13,17,24,28]))\n"
   ]
  },
  {
   "cell_type": "code",
   "execution_count": 119,
   "metadata": {},
   "outputs": [
    {
     "name": "stdout",
     "output_type": "stream",
     "text": [
      "membership number:5\n",
      "False\n"
     ]
    }
   ],
   "source": [
    "def check_num(listed):\n",
    "    digi1 = int(input ('membership number:'))\n",
    "    for digi2 in listed:\n",
    "        if digi1==digi2:\n",
    "            return True\n",
    "    return False\n",
    "print(check_num([1,2,3,4]))"
   ]
  },
  {
   "cell_type": "code",
   "execution_count": 133,
   "metadata": {},
   "outputs": [
    {
     "name": "stdout",
     "output_type": "stream",
     "text": [
      "--\n",
      "[1, 2, 3, 4, 5, 6, 7, 8, 9, 10, 11, 12]\n",
      "1\n",
      "True\n",
      "[1]\n",
      "2\n",
      "True\n",
      "[1, 2]\n",
      "3\n",
      "True\n",
      "[1, 2, 3]\n",
      "4\n",
      "True\n",
      "[1, 2, 3, 4]\n",
      "5\n",
      "False\n",
      "[1, 2, 3, 4]\n",
      "6\n",
      "True\n",
      "[1, 2, 3, 4, 6]\n",
      "7\n",
      "False\n",
      "[1, 2, 3, 4, 6]\n",
      "8\n",
      "False\n",
      "[1, 2, 3, 4, 6]\n",
      "9\n",
      "False\n",
      "[1, 2, 3, 4, 6]\n",
      "10\n",
      "False\n",
      "[1, 2, 3, 4, 6]\n",
      "11\n",
      "False\n",
      "[1, 2, 3, 4, 6]\n",
      "12\n",
      "True\n",
      "[1, 2, 3, 4, 6, 12]\n",
      "[1, 2, 3, 4, 6, 12]\n"
     ]
    }
   ],
   "source": [
    "def function(number):\n",
    "    \n",
    "    # 1. List the possible divisor candidates, before checking if they work?\n",
    "    possible_divisors = []\n",
    "    for value in range(1, number + 1):\n",
    "        possible_divisors.append(value)\n",
    "    print(possible_divisors)\n",
    "    \n",
    "    # 2. Check for all the possible divisors if they work?\n",
    "    divisors_confirmed = []\n",
    "    for possible_divisor in possible_divisors:\n",
    "        print(possible_divisor)\n",
    "        # Check if it is a valid divisor\n",
    "        is_valid = number % possible_divisor == 0\n",
    "        print(is_valid)\n",
    "        if(is_valid):\n",
    "            divisors_confirmed.append(possible_divisor)\n",
    "        else:\n",
    "            # Ignore it\n",
    "            pass\n",
    "        print(divisors_confirmed)\n",
    "    \n",
    "    # Return the list of confirmed divisors\n",
    "    return divisors_confirmed\n",
    "    \n",
    "print(\"--\")\n",
    "print(function(12))"
   ]
  },
  {
   "cell_type": "code",
   "execution_count": 134,
   "metadata": {},
   "outputs": [
    {
     "name": "stdout",
     "output_type": "stream",
     "text": [
      "--\n",
      "[1, 2, 3, 4, 5, 6, 7, 8, 9, 10, 11, 12, 13, 14, 15, 16, 17, 18, 19, 20, 21, 22, 23, 24, 25]\n",
      "1\n",
      "True\n",
      "[1]\n",
      "2\n",
      "False\n",
      "[1]\n",
      "3\n",
      "False\n",
      "[1]\n",
      "4\n",
      "False\n",
      "[1]\n",
      "5\n",
      "True\n",
      "[1, 5]\n",
      "6\n",
      "False\n",
      "[1, 5]\n",
      "7\n",
      "False\n",
      "[1, 5]\n",
      "8\n",
      "False\n",
      "[1, 5]\n",
      "9\n",
      "False\n",
      "[1, 5]\n",
      "10\n",
      "False\n",
      "[1, 5]\n",
      "11\n",
      "False\n",
      "[1, 5]\n",
      "12\n",
      "False\n",
      "[1, 5]\n",
      "13\n",
      "False\n",
      "[1, 5]\n",
      "14\n",
      "False\n",
      "[1, 5]\n",
      "15\n",
      "False\n",
      "[1, 5]\n",
      "16\n",
      "False\n",
      "[1, 5]\n",
      "17\n",
      "False\n",
      "[1, 5]\n",
      "18\n",
      "False\n",
      "[1, 5]\n",
      "19\n",
      "False\n",
      "[1, 5]\n",
      "20\n",
      "False\n",
      "[1, 5]\n",
      "21\n",
      "False\n",
      "[1, 5]\n",
      "22\n",
      "False\n",
      "[1, 5]\n",
      "23\n",
      "False\n",
      "[1, 5]\n",
      "24\n",
      "False\n",
      "[1, 5]\n",
      "25\n",
      "True\n",
      "[1, 5, 25]\n",
      "[1, 5, 25]\n"
     ]
    }
   ],
   "source": [
    "print(\"--\")\n",
    "print(function(25))"
   ]
  },
  {
   "cell_type": "markdown",
   "metadata": {},
   "source": [
    "## 8. Sublists of a list (hard challenge!)\n",
    "\n",
    "### Important Note\n",
    "\n",
    "Just showing it to you for those of you who really want a really hard challenge!\n",
    "\n",
    "Try at your own risk! Beware, it is nasty!\n",
    "\n",
    "**Suggestion:** use nested for loops and/or recursion!\n",
    "\n",
    "### Problem statement\n",
    "\n",
    "Write a function that receives a list, as shown below.\n",
    "The list will have no duplicates."
   ]
  },
  {
   "cell_type": "code",
   "execution_count": null,
   "metadata": {},
   "outputs": [],
   "source": [
    "numbers_list = [1,2,4,6]"
   ]
  },
  {
   "cell_type": "code",
   "execution_count": null,
   "metadata": {},
   "outputs": [],
   "source": [
    "def find_all_sublists_with_n(my_list, n):\n",
    "    \n",
    "    # [1,2,4,6], n = 3\n",
    "    # part1 = [1]\n",
    "    # part2 = [2,4,6], n = 2\n",
    "    part1 = [1]\n",
    "    part2 = [[2,4], [2,6], [4,6]]\n",
    "    # combined = [[1] + [2,4], [1] + [2,6], [1] + [4, 6]]\n",
    "    combined = []\n",
    "    for sublist_of_2 in part2:\n",
    "        combined.append(part1 + sublist_of_2)\n",
    "    \n",
    "    return all_sublists"
   ]
  },
  {
   "cell_type": "code",
   "execution_count": 14,
   "metadata": {},
   "outputs": [
    {
     "name": "stdout",
     "output_type": "stream",
     "text": [
      "[1]\n",
      "[2, 4, 6]\n",
      "[[2, 4], [2, 6], [4, 6]]\n",
      "[[1, 2, 4], [1, 2, 6], [1, 4, 6]]\n",
      "[2]\n",
      "[4, 6]\n",
      "[[4, 6]]\n",
      "[[1, 2, 4], [1, 2, 6], [1, 4, 6], [2, 4, 6]]\n"
     ]
    }
   ],
   "source": [
    "my_list = [1,2,4,6]\n",
    "combined = []\n",
    "\n",
    "for index in range(2):\n",
    "    part1 = [my_list[index]]\n",
    "    print(part1)\n",
    "    rest_of_list = my_list[index+1:]\n",
    "    print(rest_of_list)\n",
    "\n",
    "    # How do I get all the sublists with n = 2 elements in rest_of_list?\n",
    "    part2 = []\n",
    "    for i in range(len(rest_of_list)):\n",
    "        for j in range(i+1, len(rest_of_list)):\n",
    "            part2.append([rest_of_list[i], rest_of_list[j]])\n",
    "    print(part2)\n",
    "\n",
    "    # We can combine\n",
    "    for sublist_of_2 in part2:\n",
    "        combined.append(part1 + sublist_of_2)\n",
    "    print(combined)"
   ]
  },
  {
   "cell_type": "markdown",
   "metadata": {},
   "source": [
    "The function should return a list of lists, containing all the possible sublists that can be created, using the values in the given list. In the example above, that is"
   ]
  },
  {
   "cell_type": "code",
   "execution_count": null,
   "metadata": {},
   "outputs": [],
   "source": [
    "result = [[], \\\n",
    "          [1], [2], [4], [6], \\\n",
    "          [1, 2], [1, 4], [1, 6], [2, 4], [2, 6], [4, 6], \\\n",
    "          [1, 2, 4], [1, 2, 6], [1, 4, 6], [2, 4, 6], \\\n",
    "          [1, 2, 4, 6]]"
   ]
  },
  {
   "cell_type": "markdown",
   "metadata": {},
   "source": [
    "### Your code below!"
   ]
  },
  {
   "cell_type": "code",
   "execution_count": null,
   "metadata": {},
   "outputs": [],
   "source": []
  }
 ],
 "metadata": {
  "kernelspec": {
   "display_name": "Python 3",
   "language": "python",
   "name": "python3"
  },
  "language_info": {
   "codemirror_mode": {
    "name": "ipython",
    "version": 3
   },
   "file_extension": ".py",
   "mimetype": "text/x-python",
   "name": "python",
   "nbconvert_exporter": "python",
   "pygments_lexer": "ipython3",
   "version": "3.8.3"
  }
 },
 "nbformat": 4,
 "nbformat_minor": 4
}

{
 "cells": [
  {
   "cell_type": "code",
   "execution_count": 1,
   "metadata": {},
   "outputs": [],
   "source": [
    "\"\"\"\n",
    "# Q1: write a function that convert a dog age, in dog_age, into its equivalent human age, human_age.\n",
    "Dogs age faster during their first two years, gaining 10 equivalent human years per year.\n",
    "For each subsequent year, the equivalent human age increases by 7.\n",
    "\n",
    "For instance:\n",
    "- A dog, whose age is 1 is then 10 years old in terms of equivalent human age.\n",
    "- A dog, whose age is 2 is then 20 years old in terms of equivalent human age.\n",
    "- A dog, whose age is 3 is then 27 years old in terms of equivalent human age.\n",
    "\"\"\"\n",
    "\n",
    "def eq_human_age(dog_age):\n",
    "    human_age = None\n",
    "    return human_age"
   ]
  },
  {
   "cell_type": "code",
   "execution_count": null,
   "metadata": {},
   "outputs": [],
   "source": [
    "\"\"\"\n",
    "# Q2: write a function that returns an amount of money, defined as an even integer in variable money.\n",
    "It should return the number of fifty, ten and two dollar bills.\n",
    "The number of bills should be minimal.\n",
    "\n",
    "For instance:\n",
    "- If money = 86, we should get fifty = 1, ten = 3 and two = 3.\n",
    "\"\"\"\n",
    "\n",
    "def convert_bills(money):\n",
    "    fifty = None\n",
    "    ten = None\n",
    "    two = None\n",
    "    return fifty, ten, two"
   ]
  },
  {
   "cell_type": "code",
   "execution_count": null,
   "metadata": {},
   "outputs": [],
   "source": [
    "\"\"\"\n",
    "# Q3: write a function receives a list of integers, my_list.\n",
    "\n",
    "It returns two lists.\n",
    "- The first one, in res1, contains the values in my_list, without duplicates, in ascending order.\n",
    "- The second one, in res2, contains the number of times each element in res1 appears in my_list\n",
    "\n",
    "For instance:\n",
    "- If my_list = [4,1,1,2,4,3,5,1], then the function should return res1 = [1,2,3,4,5] and res2 = [3,1,1,2,1].\n",
    "\"\"\"\n",
    "\n",
    "def unique_vals(my_list):\n",
    "    res1 = None\n",
    "    res2 = None\n",
    "    return res1, res2"
   ]
  },
  {
   "cell_type": "code",
   "execution_count": null,
   "metadata": {},
   "outputs": [],
   "source": [
    "\"\"\"\n",
    "# Q4: write a function that receives two lists list1 and list2.\n",
    "It returns True if list2 is a sublist of list1.\n",
    "\n",
    "For instance:\n",
    "- If list1 = [1,2,3,4,5,2,4,1] and list2 = [3,4,5], it should return True.\n",
    "- If list1 = [1,2,3,4,5,2,4,1] and list2 = [4,5,1], it should return False.\n",
    "\"\"\"\n",
    "\n",
    "def is_sublist(list1, list2):\n",
    "    res = None\n",
    "    return res"
   ]
  }
 ],
 "metadata": {
  "kernelspec": {
   "display_name": "Python 3",
   "language": "python",
   "name": "python3"
  },
  "language_info": {
   "codemirror_mode": {
    "name": "ipython",
    "version": 3
   },
   "file_extension": ".py",
   "mimetype": "text/x-python",
   "name": "python",
   "nbconvert_exporter": "python",
   "pygments_lexer": "ipython3",
   "version": "3.8.3"
  }
 },
 "nbformat": 4,
 "nbformat_minor": 4
}

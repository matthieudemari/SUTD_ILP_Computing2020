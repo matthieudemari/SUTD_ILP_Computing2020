{
 "cells": [
  {
   "cell_type": "markdown",
   "metadata": {},
   "source": [
    "# Practice activities - for loops, lists, lists of lists, advanced methods on lists. - solution"
   ]
  },
  {
   "cell_type": "markdown",
   "metadata": {},
   "source": [
    "## 1. Remove duplicates\n",
    "\n",
    "Write a function that receives a list of integers, as the one below."
   ]
  },
  {
   "cell_type": "code",
   "execution_count": null,
   "metadata": {},
   "outputs": [],
   "source": [
    "integers_list = [1,2,4,5,4,8,6,7,1]"
   ]
  },
  {
   "cell_type": "markdown",
   "metadata": {},
   "source": [
    "The function should remove all duplicates from the list and return a list consisting of the elements, with duplicates removed. In the example shown above, the expected output of the function should be as shown below."
   ]
  },
  {
   "cell_type": "code",
   "execution_count": null,
   "metadata": {},
   "outputs": [],
   "source": [
    "result = [1,2,4,5,8,6,7]"
   ]
  },
  {
   "cell_type": "markdown",
   "metadata": {},
   "source": [
    "### Your code below!"
   ]
  },
  {
   "cell_type": "code",
   "execution_count": 1,
   "metadata": {},
   "outputs": [],
   "source": [
    "def remove_duplicates(integers_list):\n",
    "    \n",
    "    new_list = []\n",
    "    \n",
    "    for element in integers_list:\n",
    "        if(element not in new_list):\n",
    "            new_list.append(element)\n",
    "            \n",
    "    return new_list"
   ]
  },
  {
   "cell_type": "code",
   "execution_count": 2,
   "metadata": {},
   "outputs": [
    {
     "name": "stdout",
     "output_type": "stream",
     "text": [
      "[1, 2, 4, 5, 8, 6, 7]\n"
     ]
    }
   ],
   "source": [
    "print(remove_duplicates([1,2,4,5,4,8,6,7,1]))"
   ]
  },
  {
   "cell_type": "markdown",
   "metadata": {},
   "source": [
    "## 2. Remove outliers\n",
    "\n",
    "Write a function that receives a list of integers, as the one below."
   ]
  },
  {
   "cell_type": "code",
   "execution_count": null,
   "metadata": {},
   "outputs": [],
   "source": [
    "integers_list = [1,2,4,5,4,8,6,7,1]"
   ]
  },
  {
   "cell_type": "markdown",
   "metadata": {},
   "source": [
    "The function should remove all the occurrences of the minimal and maximal values from the list. The expected output for the list shown above, should then be"
   ]
  },
  {
   "cell_type": "code",
   "execution_count": null,
   "metadata": {},
   "outputs": [],
   "source": [
    "result = [2,4,5,4,6,7]"
   ]
  },
  {
   "cell_type": "markdown",
   "metadata": {},
   "source": [
    "### Your code below!"
   ]
  },
  {
   "cell_type": "code",
   "execution_count": 3,
   "metadata": {},
   "outputs": [],
   "source": [
    "def remove_outliers(integers_list):\n",
    "    \n",
    "    min_val = min(integers_list)\n",
    "    max_val = max(integers_list)\n",
    "    \n",
    "    while(min_val in integers_list):\n",
    "        integers_list.remove(min_val)\n",
    "    while(max_val in integers_list):\n",
    "        integers_list.remove(max_val)\n",
    "        \n",
    "    return integers_list"
   ]
  },
  {
   "cell_type": "code",
   "execution_count": 4,
   "metadata": {},
   "outputs": [
    {
     "name": "stdout",
     "output_type": "stream",
     "text": [
      "[2, 4, 5, 4, 6, 7]\n"
     ]
    }
   ],
   "source": [
    "print(remove_outliers([1,2,4,5,4,8,6,7,1]))"
   ]
  },
  {
   "cell_type": "markdown",
   "metadata": {},
   "source": [
    "## 3. Positive and negative sublists\n",
    "\n",
    "Write a function that receives a list of integers, as the one below."
   ]
  },
  {
   "cell_type": "code",
   "execution_count": null,
   "metadata": {},
   "outputs": [],
   "source": [
    "integers_list = [-1,2,0,4,-5,4,0,8,6,-7,1]"
   ]
  },
  {
   "cell_type": "markdown",
   "metadata": {},
   "source": [
    "The function should return three lists, containing all occurrences of strictly positive, strictly negative and zeros inside the given list. The expected output for the list above would then be"
   ]
  },
  {
   "cell_type": "code",
   "execution_count": null,
   "metadata": {},
   "outputs": [],
   "source": [
    "positives = [2,4,4,8,6,1]\n",
    "negatives = [-1,-5,-7]\n",
    "zeroes = [0,0]"
   ]
  },
  {
   "cell_type": "markdown",
   "metadata": {},
   "source": [
    "### Your code below!"
   ]
  },
  {
   "cell_type": "code",
   "execution_count": 6,
   "metadata": {},
   "outputs": [],
   "source": [
    "def define_subsets(integers_list):\n",
    "    \n",
    "    positives = []\n",
    "    negatives = []\n",
    "    zeroes = []\n",
    "    \n",
    "    for element in integers_list:\n",
    "        if(element > 0):\n",
    "            positives.append(element)\n",
    "        elif(element < 0):\n",
    "            negatives.append(element)\n",
    "        else:\n",
    "            zeroes.append(element)\n",
    "            \n",
    "    return positives, negatives, zeroes"
   ]
  },
  {
   "cell_type": "code",
   "execution_count": 9,
   "metadata": {},
   "outputs": [
    {
     "name": "stdout",
     "output_type": "stream",
     "text": [
      "([2, 4, 4, 8, 6, 1], [-1, -5, -7], [0, 0])\n"
     ]
    }
   ],
   "source": [
    "print(define_subsets([-1,2,0,4,-5,4,0,8,6,-7,1]))"
   ]
  },
  {
   "cell_type": "markdown",
   "metadata": {},
   "source": [
    "## 4. List of positive divisors\n",
    "\n",
    "Write a function that receives a single strictly positive integer number, such as the one shown below."
   ]
  },
  {
   "cell_type": "code",
   "execution_count": null,
   "metadata": {},
   "outputs": [],
   "source": [
    "integer = 12"
   ]
  },
  {
   "cell_type": "markdown",
   "metadata": {},
   "source": [
    "The function should return a list, which contains all the proper divisors of this number, sorted in ascending order. In the case of integer = 12 above, the expected output is then"
   ]
  },
  {
   "cell_type": "code",
   "execution_count": null,
   "metadata": {},
   "outputs": [],
   "source": [
    "divisors = [1,2,3,4,6,12]"
   ]
  },
  {
   "cell_type": "markdown",
   "metadata": {},
   "source": [
    "### Your code below!"
   ]
  },
  {
   "cell_type": "code",
   "execution_count": 12,
   "metadata": {},
   "outputs": [],
   "source": [
    "def positive_divisors(number):\n",
    "    \n",
    "    divisors = []\n",
    "    \n",
    "    for value in range(1, number//2 + 1):\n",
    "        if(number % value == 0):\n",
    "            divisors.append(value)\n",
    "    \n",
    "    divisors.append(number)\n",
    "    \n",
    "    return divisors"
   ]
  },
  {
   "cell_type": "code",
   "execution_count": 13,
   "metadata": {},
   "outputs": [
    {
     "name": "stdout",
     "output_type": "stream",
     "text": [
      "[1, 2, 3, 4, 6, 12]\n"
     ]
    }
   ],
   "source": [
    "print(positive_divisors(12))"
   ]
  },
  {
   "cell_type": "code",
   "execution_count": null,
   "metadata": {},
   "outputs": [],
   "source": [
    "def positive_divisors(integer):\n",
    "    return [divisor for divisor in range(1, integer + 1) if integer % divisor == 0]\n",
    "print(get_divisors(12))"
   ]
  },
  {
   "cell_type": "code",
   "execution_count": null,
   "metadata": {},
   "outputs": [],
   "source": [
    "print(positive_divisors(12))"
   ]
  },
  {
   "cell_type": "markdown",
   "metadata": {},
   "source": [
    "## 5. Below and above average\n",
    "\n",
    "Write a function that receives a list of integers, such as the one shown below."
   ]
  },
  {
   "cell_type": "code",
   "execution_count": null,
   "metadata": {},
   "outputs": [],
   "source": [
    "integers_list = [1,2,4,5,4,8,6,8]"
   ]
  },
  {
   "cell_type": "markdown",
   "metadata": {},
   "source": [
    "The function should return three parameters:\n",
    "- the first one is the average value of the elements in the list,\n",
    "- the second is a list containing the elements with values strictly lower than the average value,\n",
    "- and the third is a list containing the elements with values strictly higher than the average value,"
   ]
  },
  {
   "cell_type": "code",
   "execution_count": null,
   "metadata": {},
   "outputs": [],
   "source": [
    "avg_value = 4.75\n",
    "lower = [1,2,4,4]\n",
    "higher = [5,8,6,8]"
   ]
  },
  {
   "cell_type": "markdown",
   "metadata": {},
   "source": [
    "### Your code below!"
   ]
  },
  {
   "cell_type": "code",
   "execution_count": 17,
   "metadata": {},
   "outputs": [],
   "source": [
    "def below_above_avg(integers_list):\n",
    "    \n",
    "    avg_value = sum(integers_list)/len(integers_list)\n",
    "    lower = []\n",
    "    higher = []\n",
    "    \n",
    "    for element in integers_list:\n",
    "        if(element > avg_value):\n",
    "            higher.append(element)\n",
    "        elif(element < avg_value):\n",
    "            lower.append(element)\n",
    "            \n",
    "    return avg_value, lower, higher"
   ]
  },
  {
   "cell_type": "code",
   "execution_count": 18,
   "metadata": {},
   "outputs": [
    {
     "name": "stdout",
     "output_type": "stream",
     "text": [
      "(4.75, [1, 2, 4, 4], [5, 8, 6, 8])\n"
     ]
    }
   ],
   "source": [
    "print(below_above_avg([1,2,4,5,4,8,6,8]))"
   ]
  },
  {
   "cell_type": "markdown",
   "metadata": {},
   "source": [
    "## 6. Lottery gains computation\n",
    "\n",
    "Write a function that receives two lists:\n",
    "- the first list contains six elements, which correspond to the numbers of a lottery ticket, bought by the user,\n",
    "- the second list also contains six elements, which correspond to the numbers drawn for this lottery.\n",
    "\n",
    "An example is shown below."
   ]
  },
  {
   "cell_type": "code",
   "execution_count": null,
   "metadata": {},
   "outputs": [],
   "source": [
    "ticket_numbers = [2,3,7,17,21,36]\n",
    "winning_numbers = [3,11,13,17,24,28]"
   ]
  },
  {
   "cell_type": "markdown",
   "metadata": {},
   "source": [
    "The function should return the number of winning numbers that the ticket contains, based on the drawn numbers. In the example shown above, it should return"
   ]
  },
  {
   "cell_type": "code",
   "execution_count": null,
   "metadata": {},
   "outputs": [],
   "source": [
    "number = 2"
   ]
  },
  {
   "cell_type": "markdown",
   "metadata": {},
   "source": [
    "### Your code below!"
   ]
  },
  {
   "cell_type": "code",
   "execution_count": 19,
   "metadata": {},
   "outputs": [],
   "source": [
    "def compute_winning_numbers(ticket_numbers, winning_numbers):\n",
    "    \n",
    "    number = 0\n",
    "    \n",
    "    for element in ticket_numbers:\n",
    "        if element in winning_numbers:\n",
    "            number += 1\n",
    "            \n",
    "    return number"
   ]
  },
  {
   "cell_type": "code",
   "execution_count": 20,
   "metadata": {},
   "outputs": [
    {
     "name": "stdout",
     "output_type": "stream",
     "text": [
      "2\n"
     ]
    }
   ],
   "source": [
    "print(compute_winning_numbers([2,3,7,17,21,36], [3,11,13,17,24,28]))"
   ]
  },
  {
   "cell_type": "markdown",
   "metadata": {},
   "source": [
    "## 7. Min, max, mean and median\n",
    "\n",
    "Write a function that receives a list, as shown below.\n",
    "The list will have no duplicates."
   ]
  },
  {
   "cell_type": "code",
   "execution_count": null,
   "metadata": {},
   "outputs": [],
   "source": [
    "numbers_list = [1,2,4,5,7,7,8]"
   ]
  },
  {
   "cell_type": "markdown",
   "metadata": {},
   "source": [
    "The function should return four numbers, corresponding to the min, max, mean and median values in the list"
   ]
  },
  {
   "cell_type": "code",
   "execution_count": null,
   "metadata": {},
   "outputs": [],
   "source": [
    "min_val = 1\n",
    "max_val = 8\n",
    "mean_val = 4.857142857142857\n",
    "median_val = 5"
   ]
  },
  {
   "cell_type": "markdown",
   "metadata": {},
   "source": [
    "### Your code below!"
   ]
  },
  {
   "cell_type": "code",
   "execution_count": 33,
   "metadata": {},
   "outputs": [],
   "source": [
    "def min_max_mean_median(numbers_list):\n",
    "    \n",
    "    min_val = min(numbers_list)\n",
    "    \n",
    "    max_val = max(numbers_list)\n",
    "    \n",
    "    mean_val = sum(numbers_list)/len(numbers_list)\n",
    "    \n",
    "    numbers_list.sort()\n",
    "    median_val = numbers_list[len(numbers_list)//2]\n",
    "    \n",
    "    return min_val, max_val, mean_val, median_val"
   ]
  },
  {
   "cell_type": "code",
   "execution_count": 34,
   "metadata": {},
   "outputs": [
    {
     "name": "stdout",
     "output_type": "stream",
     "text": [
      "(1, 8, 4.857142857142857, 5)\n"
     ]
    }
   ],
   "source": [
    "print(min_max_mean_median([1,2,4,5,7,7,8]))"
   ]
  },
  {
   "cell_type": "markdown",
   "metadata": {},
   "source": [
    "## 8. Sublists of a list (hard challenge!)\n",
    "\n",
    "### Important Note\n",
    "\n",
    "Just showing it to you for those of you who really want a really hard challenge!\n",
    "\n",
    "Try at your own risk! Beware, it is nasty!\n",
    "\n",
    "**Suggestion:** use nested for loops and/or recursion!\n",
    "\n",
    "### Problem statement\n",
    "\n",
    "Write a function that receives a list, as shown below.\n",
    "The list will have no duplicates."
   ]
  },
  {
   "cell_type": "code",
   "execution_count": null,
   "metadata": {},
   "outputs": [],
   "source": [
    "numbers_list = [1,2,4,6]"
   ]
  },
  {
   "cell_type": "markdown",
   "metadata": {},
   "source": [
    "The function should return a list of all the possible sublists that can be created, using the values in the given list. In the example above, that is"
   ]
  },
  {
   "cell_type": "code",
   "execution_count": null,
   "metadata": {},
   "outputs": [],
   "source": [
    "result = [[], \\\n",
    "          [1], [2], [4], [6], \\\n",
    "          [1, 2], [1, 4], [1, 6], [2, 4], [2, 6], [4, 6], \\\n",
    "          [1, 2, 4], [1, 2, 6], [1, 4, 6], [2, 4, 6], \\\n",
    "          [1, 2, 4, 6]]"
   ]
  },
  {
   "cell_type": "markdown",
   "metadata": {},
   "source": [
    "### Your code below!"
   ]
  },
  {
   "cell_type": "code",
   "execution_count": 19,
   "metadata": {},
   "outputs": [],
   "source": [
    "def compute_sublists_with_n_elements(numbers_list, n):\n",
    "    \n",
    "    sublists = []\n",
    "    \n",
    "    if(n == 0):\n",
    "        return [sublists]\n",
    "    \n",
    "    elif(n == 1):\n",
    "        for element in numbers_list:\n",
    "            sublists.append([element])\n",
    "        return sublists\n",
    "    \n",
    "    elif(n == len(numbers_list)):\n",
    "        return [numbers_list]\n",
    "    \n",
    "    else:\n",
    "        for index, element in enumerate(numbers_list):\n",
    "            \n",
    "            part1 = [element]\n",
    "            \n",
    "            if((len(numbers_list) - index) >= (n - 1)):\n",
    "                new_list = numbers_list[index + 1:]\n",
    "                part2 = compute_sublists_with_n_elements(new_list, n - 1)\n",
    "            \n",
    "                for sublist2 in part2:\n",
    "                    sublists.append(part1 + sublist2)\n",
    "                \n",
    "        return sublists"
   ]
  },
  {
   "cell_type": "code",
   "execution_count": 20,
   "metadata": {},
   "outputs": [
    {
     "name": "stdout",
     "output_type": "stream",
     "text": [
      "[[]]\n"
     ]
    }
   ],
   "source": [
    "print(compute_sublists_with_n_elements([1,2,4,6], 0))"
   ]
  },
  {
   "cell_type": "code",
   "execution_count": 21,
   "metadata": {},
   "outputs": [
    {
     "name": "stdout",
     "output_type": "stream",
     "text": [
      "[[1], [2], [4], [6]]\n"
     ]
    }
   ],
   "source": [
    "print(compute_sublists_with_n_elements([1,2,4,6], 1))"
   ]
  },
  {
   "cell_type": "code",
   "execution_count": 22,
   "metadata": {},
   "outputs": [
    {
     "name": "stdout",
     "output_type": "stream",
     "text": [
      "[[1, 2], [1, 4], [1, 6], [2, 4], [2, 6], [4, 6]]\n"
     ]
    }
   ],
   "source": [
    "print(compute_sublists_with_n_elements([1,2,4,6], 2))"
   ]
  },
  {
   "cell_type": "code",
   "execution_count": 23,
   "metadata": {},
   "outputs": [
    {
     "name": "stdout",
     "output_type": "stream",
     "text": [
      "[[1, 2, 4], [1, 2, 6], [1, 4, 6], [2, 4, 6]]\n"
     ]
    }
   ],
   "source": [
    "print(compute_sublists_with_n_elements([1,2,4,6], 3))"
   ]
  },
  {
   "cell_type": "code",
   "execution_count": 24,
   "metadata": {},
   "outputs": [
    {
     "name": "stdout",
     "output_type": "stream",
     "text": [
      "[[1, 2, 4, 6]]\n"
     ]
    }
   ],
   "source": [
    "out = compute_sublists_with_n_elements([1,2,4,6], 4)\n",
    "print(out)"
   ]
  },
  {
   "cell_type": "code",
   "execution_count": 25,
   "metadata": {},
   "outputs": [],
   "source": [
    "def sublists_of_list(numbers_list):\n",
    "    \n",
    "    sublists = []\n",
    "    n = len(numbers_list)\n",
    "    \n",
    "    sublists.append([])\n",
    "    \n",
    "    for length in range(1, n + 1):\n",
    "        sublist_length = compute_sublists_with_n_elements(numbers_list, length)\n",
    "        sublists.extend(sublist_length)\n",
    "    \n",
    "    return sublists"
   ]
  },
  {
   "cell_type": "code",
   "execution_count": 26,
   "metadata": {},
   "outputs": [
    {
     "name": "stdout",
     "output_type": "stream",
     "text": [
      "[[], [1], [2], [4], [6], [1, 2], [1, 4], [1, 6], [2, 4], [2, 6], [4, 6], [1, 2, 4], [1, 2, 6], [1, 4, 6], [2, 4, 6], [1, 2, 4, 6]]\n"
     ]
    }
   ],
   "source": [
    "print(sublists_of_list([1,2,4,6]))"
   ]
  },
  {
   "cell_type": "code",
   "execution_count": 27,
   "metadata": {},
   "outputs": [
    {
     "name": "stdout",
     "output_type": "stream",
     "text": [
      "[[], [1], [2], [4], [6], [7], [1, 2], [1, 4], [1, 6], [1, 7], [2, 4], [2, 6], [2, 7], [4, 6], [4, 7], [6, 7], [1, 2, 4], [1, 2, 6], [1, 2, 7], [1, 4, 6], [1, 4, 7], [1, 6, 7], [2, 4, 6], [2, 4, 7], [2, 6, 7], [4, 6, 7], [1, 2, 4, 6], [1, 2, 4, 7], [1, 2, 6, 7], [1, 4, 6, 7], [2, 4, 6, 7], [1, 2, 4, 6, 7]]\n"
     ]
    }
   ],
   "source": [
    "print(sublists_of_list([1,2,4,6,7]))"
   ]
  },
  {
   "cell_type": "code",
   "execution_count": null,
   "metadata": {},
   "outputs": [],
   "source": []
  }
 ],
 "metadata": {
  "kernelspec": {
   "display_name": "Python 3",
   "language": "python",
   "name": "python3"
  },
  "language_info": {
   "codemirror_mode": {
    "name": "ipython",
    "version": 3
   },
   "file_extension": ".py",
   "mimetype": "text/x-python",
   "name": "python",
   "nbconvert_exporter": "python",
   "pygments_lexer": "ipython3",
   "version": "3.8.3"
  }
 },
 "nbformat": 4,
 "nbformat_minor": 4
}
